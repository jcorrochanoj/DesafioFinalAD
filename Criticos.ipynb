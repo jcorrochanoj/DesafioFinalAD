{
 "cells": [
  {
   "cell_type": "markdown",
   "metadata": {},
   "source": [
    "## Análisis de críticos"
   ]
  },
  {
   "cell_type": "code",
   "execution_count": 1,
   "metadata": {},
   "outputs": [],
   "source": [
    "import pandas as pd\n",
    "df_users = pd.read_csv(\"Dataset/datos_users_limpio.csv\")\n",
    "# df_opiniones = pd.read_csv(\"Dataset/datos_opiniones_sintexto.csv\")\n",
    "# df_business = pd.read_csv(\"Dataset/datos_negocios_limpios.csv\")"
   ]
  },
  {
   "cell_type": "code",
   "execution_count": 4,
   "metadata": {},
   "outputs": [],
   "source": [
    "df_users = df_users[['usuario_id', 'num_opiniones', 'media_puntuacion']]"
   ]
  },
  {
   "cell_type": "code",
   "execution_count": 5,
   "metadata": {},
   "outputs": [
    {
     "data": {
      "text/html": [
       "<div>\n",
       "<style scoped>\n",
       "    .dataframe tbody tr th:only-of-type {\n",
       "        vertical-align: middle;\n",
       "    }\n",
       "\n",
       "    .dataframe tbody tr th {\n",
       "        vertical-align: top;\n",
       "    }\n",
       "\n",
       "    .dataframe thead th {\n",
       "        text-align: right;\n",
       "    }\n",
       "</style>\n",
       "<table border=\"1\" class=\"dataframe\">\n",
       "  <thead>\n",
       "    <tr style=\"text-align: right;\">\n",
       "      <th></th>\n",
       "      <th>usuario_id</th>\n",
       "      <th>num_opiniones</th>\n",
       "      <th>media_puntuacion</th>\n",
       "    </tr>\n",
       "  </thead>\n",
       "  <tbody>\n",
       "    <tr>\n",
       "      <th>0</th>\n",
       "      <td>l6BmjZMeQD3rDxWUbiAiow</td>\n",
       "      <td>95</td>\n",
       "      <td>4.03</td>\n",
       "    </tr>\n",
       "    <tr>\n",
       "      <th>1</th>\n",
       "      <td>4XChL029mKr5hydo79Ljxg</td>\n",
       "      <td>33</td>\n",
       "      <td>3.63</td>\n",
       "    </tr>\n",
       "    <tr>\n",
       "      <th>2</th>\n",
       "      <td>bc8C_eETBWL0olvFSJJd0w</td>\n",
       "      <td>16</td>\n",
       "      <td>3.71</td>\n",
       "    </tr>\n",
       "    <tr>\n",
       "      <th>3</th>\n",
       "      <td>dD0gZpBctWGdWo9WlGuhlA</td>\n",
       "      <td>17</td>\n",
       "      <td>4.85</td>\n",
       "    </tr>\n",
       "    <tr>\n",
       "      <th>4</th>\n",
       "      <td>MM4RJAeH6yuaN8oZDSt0RA</td>\n",
       "      <td>361</td>\n",
       "      <td>4.08</td>\n",
       "    </tr>\n",
       "    <tr>\n",
       "      <th>...</th>\n",
       "      <td>...</td>\n",
       "      <td>...</td>\n",
       "      <td>...</td>\n",
       "    </tr>\n",
       "    <tr>\n",
       "      <th>1637133</th>\n",
       "      <td>oC4BjbB4I-wx5KBAO1k2Gg</td>\n",
       "      <td>2</td>\n",
       "      <td>4.50</td>\n",
       "    </tr>\n",
       "    <tr>\n",
       "      <th>1637134</th>\n",
       "      <td>LKd_-BT2GMWp8_1ho18kOg</td>\n",
       "      <td>8</td>\n",
       "      <td>4.00</td>\n",
       "    </tr>\n",
       "    <tr>\n",
       "      <th>1637135</th>\n",
       "      <td>ib_elCBhGOamS0AALkh4Og</td>\n",
       "      <td>4</td>\n",
       "      <td>3.40</td>\n",
       "    </tr>\n",
       "    <tr>\n",
       "      <th>1637136</th>\n",
       "      <td>WV27LoSFDG_YmiDKTLKKLA</td>\n",
       "      <td>1</td>\n",
       "      <td>3.00</td>\n",
       "    </tr>\n",
       "    <tr>\n",
       "      <th>1637137</th>\n",
       "      <td>agVqH9xDhNw8n7ve66H1Uw</td>\n",
       "      <td>1</td>\n",
       "      <td>5.00</td>\n",
       "    </tr>\n",
       "  </tbody>\n",
       "</table>\n",
       "<p>1637138 rows × 3 columns</p>\n",
       "</div>"
      ],
      "text/plain": [
       "                     usuario_id  num_opiniones  media_puntuacion\n",
       "0        l6BmjZMeQD3rDxWUbiAiow             95              4.03\n",
       "1        4XChL029mKr5hydo79Ljxg             33              3.63\n",
       "2        bc8C_eETBWL0olvFSJJd0w             16              3.71\n",
       "3        dD0gZpBctWGdWo9WlGuhlA             17              4.85\n",
       "4        MM4RJAeH6yuaN8oZDSt0RA            361              4.08\n",
       "...                         ...            ...               ...\n",
       "1637133  oC4BjbB4I-wx5KBAO1k2Gg              2              4.50\n",
       "1637134  LKd_-BT2GMWp8_1ho18kOg              8              4.00\n",
       "1637135  ib_elCBhGOamS0AALkh4Og              4              3.40\n",
       "1637136  WV27LoSFDG_YmiDKTLKKLA              1              3.00\n",
       "1637137  agVqH9xDhNw8n7ve66H1Uw              1              5.00\n",
       "\n",
       "[1637138 rows x 3 columns]"
      ]
     },
     "execution_count": 5,
     "metadata": {},
     "output_type": "execute_result"
    }
   ],
   "source": [
    "df_users"
   ]
  },
  {
   "cell_type": "code",
   "execution_count": 15,
   "metadata": {},
   "outputs": [
    {
     "data": {
      "image/png": "[encoded data removed]",
      "text/plain": [
       "<Figure size 432x288 with 1 Axes>"
      ]
     },
     "metadata": {
      "needs_background": "light"
     },
     "output_type": "display_data"
    }
   ],
   "source": [
    "import matplotlib.pyplot as plt\n",
    "plt.plot(df_users['media_puntuacion'], df_users['num_opiniones'], 'o', color='black');\n",
    "\n",
    "plt.show()"
   ]
  },
  {
   "cell_type": "code",
   "execution_count": 16,
   "metadata": {
    "scrolled": true
   },
   "outputs": [
    {
     "data": {
      "text/html": [
       "<div>\n",
       "<style scoped>\n",
       "    .dataframe tbody tr th:only-of-type {\n",
       "        vertical-align: middle;\n",
       "    }\n",
       "\n",
       "    .dataframe tbody tr th {\n",
       "        vertical-align: top;\n",
       "    }\n",
       "\n",
       "    .dataframe thead th {\n",
       "        text-align: right;\n",
       "    }\n",
       "</style>\n",
       "<table border=\"1\" class=\"dataframe\">\n",
       "  <thead>\n",
       "    <tr style=\"text-align: right;\">\n",
       "      <th></th>\n",
       "      <th>usuario_id</th>\n",
       "      <th>num_opiniones</th>\n",
       "      <th>media_puntuacion</th>\n",
       "    </tr>\n",
       "  </thead>\n",
       "  <tbody>\n",
       "    <tr>\n",
       "      <th>128104</th>\n",
       "      <td>boVYlNwPXT7xTGCotNtUjw</td>\n",
       "      <td>54</td>\n",
       "      <td>1.0</td>\n",
       "    </tr>\n",
       "    <tr>\n",
       "      <th>1596794</th>\n",
       "      <td>jg4-HlyS4619PCfWRJ4z_g</td>\n",
       "      <td>43</td>\n",
       "      <td>1.0</td>\n",
       "    </tr>\n",
       "    <tr>\n",
       "      <th>746257</th>\n",
       "      <td>4HA-H_H33AUlifdo9Mm3sg</td>\n",
       "      <td>28</td>\n",
       "      <td>1.0</td>\n",
       "    </tr>\n",
       "    <tr>\n",
       "      <th>1297114</th>\n",
       "      <td>QwlQNnaq5p-pD2irEXesQg</td>\n",
       "      <td>28</td>\n",
       "      <td>1.0</td>\n",
       "    </tr>\n",
       "    <tr>\n",
       "      <th>304557</th>\n",
       "      <td>b2qlVHqhSMabi9BfIroovQ</td>\n",
       "      <td>25</td>\n",
       "      <td>1.0</td>\n",
       "    </tr>\n",
       "    <tr>\n",
       "      <th>974164</th>\n",
       "      <td>hMi_BmHFJMVMRodr8VD6Og</td>\n",
       "      <td>25</td>\n",
       "      <td>1.0</td>\n",
       "    </tr>\n",
       "    <tr>\n",
       "      <th>1277710</th>\n",
       "      <td>KJ1H86OuyZbbM5MOV0YDzA</td>\n",
       "      <td>24</td>\n",
       "      <td>1.0</td>\n",
       "    </tr>\n",
       "    <tr>\n",
       "      <th>197407</th>\n",
       "      <td>z3jPdGqv2_ikVRlw7CLpVQ</td>\n",
       "      <td>23</td>\n",
       "      <td>1.0</td>\n",
       "    </tr>\n",
       "    <tr>\n",
       "      <th>97074</th>\n",
       "      <td>CpJ79GKbaOypscokjS8sgQ</td>\n",
       "      <td>22</td>\n",
       "      <td>1.0</td>\n",
       "    </tr>\n",
       "    <tr>\n",
       "      <th>98044</th>\n",
       "      <td>jSp8rG4Tv0wnDFqa9v4J6g</td>\n",
       "      <td>22</td>\n",
       "      <td>1.0</td>\n",
       "    </tr>\n",
       "  </tbody>\n",
       "</table>\n",
       "</div>"
      ],
      "text/plain": [
       "                     usuario_id  num_opiniones  media_puntuacion\n",
       "128104   boVYlNwPXT7xTGCotNtUjw             54               1.0\n",
       "1596794  jg4-HlyS4619PCfWRJ4z_g             43               1.0\n",
       "746257   4HA-H_H33AUlifdo9Mm3sg             28               1.0\n",
       "1297114  QwlQNnaq5p-pD2irEXesQg             28               1.0\n",
       "304557   b2qlVHqhSMabi9BfIroovQ             25               1.0\n",
       "974164   hMi_BmHFJMVMRodr8VD6Og             25               1.0\n",
       "1277710  KJ1H86OuyZbbM5MOV0YDzA             24               1.0\n",
       "197407   z3jPdGqv2_ikVRlw7CLpVQ             23               1.0\n",
       "97074    CpJ79GKbaOypscokjS8sgQ             22               1.0\n",
       "98044    jSp8rG4Tv0wnDFqa9v4J6g             22               1.0"
      ]
     },
     "execution_count": 16,
     "metadata": {},
     "output_type": "execute_result"
    }
   ],
   "source": [
    "usuariosCriticos = df_users.sort_values(['media_puntuacion', 'num_opiniones'], ascending=[True, False]).head(10)"
   ]
  },
  {
   "cell_type": "code",
   "execution_count": null,
   "metadata": {},
   "outputs": [],
   "source": []
  }
 ],
 "metadata": {
  "kernelspec": {
   "display_name": "Python 3",
   "language": "python",
   "name": "python3"
  },
  "language_info": {
   "codemirror_mode": {
    "name": "ipython",
    "version": 3
   },
   "file_extension": ".py",
   "mimetype": "text/x-python",
   "name": "python",
   "nbconvert_exporter": "python",
   "pygments_lexer": "ipython3",
   "version": "3.6.8"
  }
 },
 "nbformat": 4,
 "nbformat_minor": 2
}
