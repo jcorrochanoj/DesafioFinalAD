{
 "cells": [
  {
   "cell_type": "markdown",
   "metadata": {},
   "source": [
    "## Índice de archivos de preprocesado\n",
    "\n",
    "En los siguientes archivos de jupyter se realiza el preprocesado de cada uno de los archivos de dataset que tenemos. El objetivo que tenemos en este preprocesado es revisar que todos los atributos tienen valores correctos, tratar con valores nulos o incompletos... etc.\n",
    "<br>\n",
    "<font size=\"3\">\n",
    "1. <a href=\"/notebooks/Preprocesado/Preprocesado_Check.ipynb\">Preprocesado de Dataset Check (Revisiones físicas)</a> <br>\n",
    "2. <a href=\"/notebooks/Preprocesado/Preprocesado_Consejos.ipynb\">Preprocesado de Dataset de Consejos</a><br>\n",
    "3. <a href=\"/notebooks/Preprocesado/Preprocesado_Negocios.ipynb\">Preprocesado de Dataset de Negocios</a><br>\n",
    "4. <a href=\"/notebooks/Preprocesado/Preprocesado_Opiniones.ipynb\">Preprocesado de Dataset de Opiniones</a><br>\n",
    "5. <a href=\"/notebooks/Preprocesado/Preprocesado_USERS.ipynb\">Preprocesado de Dataset de Usuarios</a><br>\n",
    "</font>\n",
    "\n"
   ]
  }
 ],
 "metadata": {
  "kernelspec": {
   "display_name": "Python 3",
   "language": "python",
   "name": "python3"
  },
  "language_info": {
   "codemirror_mode": {
    "name": "ipython",
    "version": 3
   },
   "file_extension": ".py",
   "mimetype": "text/x-python",
   "name": "python",
   "nbconvert_exporter": "python",
   "pygments_lexer": "ipython3",
   "version": "3.6.9"
  }
 },
 "nbformat": 4,
 "nbformat_minor": 2
}
