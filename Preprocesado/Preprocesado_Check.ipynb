{
 "cells": [
  {
   "cell_type": "markdown",
   "metadata": {},
   "source": [
    "## Dataset de revisiones físicas\n",
    "\n",
    "### Limpieza inicial"
   ]
  },
  {
   "cell_type": "code",
   "execution_count": 1,
   "metadata": {},
   "outputs": [],
   "source": [
    "import pandas as pd\n",
    "\n",
    "df_check = pd.read_csv('../Dataset/datos_check.csv')"
   ]
  },
  {
   "cell_type": "code",
   "execution_count": 2,
   "metadata": {},
   "outputs": [
    {
     "data": {
      "text/html": [
       "<div>\n",
       "<style scoped>\n",
       "    .dataframe tbody tr th:only-of-type {\n",
       "        vertical-align: middle;\n",
       "    }\n",
       "\n",
       "    .dataframe tbody tr th {\n",
       "        vertical-align: top;\n",
       "    }\n",
       "\n",
       "    .dataframe thead th {\n",
       "        text-align: right;\n",
       "    }\n",
       "</style>\n",
       "<table border=\"1\" class=\"dataframe\">\n",
       "  <thead>\n",
       "    <tr style=\"text-align: right;\">\n",
       "      <th></th>\n",
       "      <th>negocio_id</th>\n",
       "      <th>fecha</th>\n",
       "    </tr>\n",
       "  </thead>\n",
       "  <tbody>\n",
       "    <tr>\n",
       "      <th>0</th>\n",
       "      <td>--1UhMGODdWsrMastO9DZw</td>\n",
       "      <td>2016-04-26 19:49:16, 2016-08-30 18:36:57, 2016...</td>\n",
       "    </tr>\n",
       "    <tr>\n",
       "      <th>1</th>\n",
       "      <td>--6MefnULPED_I942VcFNA</td>\n",
       "      <td>2011-06-04 18:22:23, 2011-07-23 23:51:33, 2012...</td>\n",
       "    </tr>\n",
       "    <tr>\n",
       "      <th>2</th>\n",
       "      <td>--7zmmkVg-IMGaXbuVd0SQ</td>\n",
       "      <td>2014-12-29 19:25:50, 2015-01-17 01:49:14, 2015...</td>\n",
       "    </tr>\n",
       "    <tr>\n",
       "      <th>3</th>\n",
       "      <td>--8LPVSo5i0Oo61X01sV9A</td>\n",
       "      <td>2016-07-08 16:43:30</td>\n",
       "    </tr>\n",
       "    <tr>\n",
       "      <th>4</th>\n",
       "      <td>--9QQLMTbFzLJ_oT-ON3Xw</td>\n",
       "      <td>2010-06-26 17:39:07, 2010-08-01 20:06:21, 2010...</td>\n",
       "    </tr>\n",
       "    <tr>\n",
       "      <th>...</th>\n",
       "      <td>...</td>\n",
       "      <td>...</td>\n",
       "    </tr>\n",
       "    <tr>\n",
       "      <th>161945</th>\n",
       "      <td>zzvlwkcNR1CCqOPXwuvz2A</td>\n",
       "      <td>2017-05-06 20:05:15, 2017-05-12 22:37:03, 2017...</td>\n",
       "    </tr>\n",
       "    <tr>\n",
       "      <th>161946</th>\n",
       "      <td>zzwaS0xn1MVEPEf0hNLjew</td>\n",
       "      <td>2010-02-16 02:09:56, 2010-07-05 05:40:48, 2010...</td>\n",
       "    </tr>\n",
       "    <tr>\n",
       "      <th>161947</th>\n",
       "      <td>zzwhN7x37nyjP0ZM8oiHmw</td>\n",
       "      <td>2016-03-06 13:27:02, 2016-03-09 00:41:53, 2016...</td>\n",
       "    </tr>\n",
       "    <tr>\n",
       "      <th>161948</th>\n",
       "      <td>zzwicjPC9g246MK2M1ZFBA</td>\n",
       "      <td>2012-09-22 00:26:15, 2012-09-23 20:12:00, 2012...</td>\n",
       "    </tr>\n",
       "    <tr>\n",
       "      <th>161949</th>\n",
       "      <td>zzzaIBwimxVej4tY6qFOUQ</td>\n",
       "      <td>2012-10-12 16:26:35, 2012-10-19 19:31:14, 2012...</td>\n",
       "    </tr>\n",
       "  </tbody>\n",
       "</table>\n",
       "<p>161950 rows × 2 columns</p>\n",
       "</div>"
      ],
      "text/plain": [
       "                    negocio_id  \\\n",
       "0       --1UhMGODdWsrMastO9DZw   \n",
       "1       --6MefnULPED_I942VcFNA   \n",
       "2       --7zmmkVg-IMGaXbuVd0SQ   \n",
       "3       --8LPVSo5i0Oo61X01sV9A   \n",
       "4       --9QQLMTbFzLJ_oT-ON3Xw   \n",
       "...                        ...   \n",
       "161945  zzvlwkcNR1CCqOPXwuvz2A   \n",
       "161946  zzwaS0xn1MVEPEf0hNLjew   \n",
       "161947  zzwhN7x37nyjP0ZM8oiHmw   \n",
       "161948  zzwicjPC9g246MK2M1ZFBA   \n",
       "161949  zzzaIBwimxVej4tY6qFOUQ   \n",
       "\n",
       "                                                    fecha  \n",
       "0       2016-04-26 19:49:16, 2016-08-30 18:36:57, 2016...  \n",
       "1       2011-06-04 18:22:23, 2011-07-23 23:51:33, 2012...  \n",
       "2       2014-12-29 19:25:50, 2015-01-17 01:49:14, 2015...  \n",
       "3                                     2016-07-08 16:43:30  \n",
       "4       2010-06-26 17:39:07, 2010-08-01 20:06:21, 2010...  \n",
       "...                                                   ...  \n",
       "161945  2017-05-06 20:05:15, 2017-05-12 22:37:03, 2017...  \n",
       "161946  2010-02-16 02:09:56, 2010-07-05 05:40:48, 2010...  \n",
       "161947  2016-03-06 13:27:02, 2016-03-09 00:41:53, 2016...  \n",
       "161948  2012-09-22 00:26:15, 2012-09-23 20:12:00, 2012...  \n",
       "161949  2012-10-12 16:26:35, 2012-10-19 19:31:14, 2012...  \n",
       "\n",
       "[161950 rows x 2 columns]"
      ]
     },
     "execution_count": 2,
     "metadata": {},
     "output_type": "execute_result"
    }
   ],
   "source": [
    "df_check"
   ]
  },
  {
   "cell_type": "markdown",
   "metadata": {},
   "source": [
    "### Búsqueda de valores nulos"
   ]
  },
  {
   "cell_type": "code",
   "execution_count": 3,
   "metadata": {},
   "outputs": [
    {
     "name": "stdout",
     "output_type": "stream",
     "text": [
      "¿Hay valores nulos?\n",
      " negocio_id    False\n",
      "fecha         False\n",
      "dtype: bool \n",
      "\n",
      "¿Cuantos?\n",
      " negocio_id    0\n",
      "fecha         0\n",
      "dtype: int64 \n",
      "\n"
     ]
    }
   ],
   "source": [
    "print(\"¿Hay valores nulos?\\n\", pd.isnull(df_check).any(), \"\\n\")\n",
    "print(\"¿Cuantos?\\n\", pd.isnull(df_check).sum(), \"\\n\")"
   ]
  },
  {
   "cell_type": "markdown",
   "metadata": {},
   "source": [
    "### Comprobación sintáctica de la fecha"
   ]
  },
  {
   "cell_type": "markdown",
   "metadata": {},
   "source": [
    "No se imprime ningún error por lo que, aparentemente, todas las fechas son sintácticamente correctas."
   ]
  },
  {
   "cell_type": "code",
   "execution_count": 4,
   "metadata": {},
   "outputs": [
    {
     "data": {
      "text/plain": [
       "0         False\n",
       "1         False\n",
       "2         False\n",
       "3         False\n",
       "4         False\n",
       "          ...  \n",
       "161945    False\n",
       "161946    False\n",
       "161947    False\n",
       "161948    False\n",
       "161949    False\n",
       "Name: fecha, Length: 161950, dtype: bool"
      ]
     },
     "execution_count": 4,
     "metadata": {},
     "output_type": "execute_result"
    }
   ],
   "source": [
    "import re\n",
    "pattern = re.compile(\"[\\s]?[0-9][0-9][0-9][0-9][-][0-1][0-9][-][0-3][0-9]\\s[0-2][0-9][:][0-5][0-9][:][0-5][0-9]\")\n",
    "\n",
    "\n",
    "def preprocesa(x):\n",
    "    listaFechas = x.split(\",\")\n",
    "    for date in listaFechas:\n",
    "        if(pattern.match(date) == None):\n",
    "            print(\"date not matching: \" + str(x))\n",
    "            return True\n",
    "    return False\n",
    "\n",
    "df_check['fecha'].apply(lambda x: preprocesa(x))"
   ]
  }
 ],
 "metadata": {
  "kernelspec": {
   "display_name": "Python 3",
   "language": "python",
   "name": "python3"
  },
  "language_info": {
   "codemirror_mode": {
    "name": "ipython",
    "version": 3
   },
   "file_extension": ".py",
   "mimetype": "text/x-python",
   "name": "python",
   "nbconvert_exporter": "python",
   "pygments_lexer": "ipython3",
   "version": "3.6.9"
  }
 },
 "nbformat": 4,
 "nbformat_minor": 2
}
