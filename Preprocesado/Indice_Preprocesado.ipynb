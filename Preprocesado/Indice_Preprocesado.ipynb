{
 "cells": [
  {
   "cell_type": "markdown",
   "metadata": {},
   "source": [
    "## Índice de archivos de preprocesado\n",
    "\n",
    "\n",
    "\n",
    "<a href=\"/notebooks/Preprocesado/Preprocesado_Check.ipynb\">Preprocesado de Dataset Check (Revisiones físicas)</a>\n",
    "<a href=\"/notebooks/Preprocesado/Preprocesado_Consejos.ipynb\">Preprocesado de Dataset de Consejos</a>\n",
    "<a href=\"/notebooks/Preprocesado/Preprocesado_Negocios.ipynb\">Preprocesado de Dataset de Negocios</a>\n",
    "<a href=\"/notebooks/Preprocesado/Preprocesado_Opiniones.ipynb\">Preprocesado de Dataset de Opiniones</a>\n",
    "<a href=\"/notebooks/Preprocesado/Preprocesado_USERS.ipynb\">Preprocesado de Dataset de Usuarios</a>\n",
    "\n"
   ]
  }
 ],
 "metadata": {
  "kernelspec": {
   "display_name": "Python 3",
   "language": "python",
   "name": "python3"
  },
  "language_info": {
   "codemirror_mode": {
    "name": "ipython",
    "version": 3
   },
   "file_extension": ".py",
   "mimetype": "text/x-python",
   "name": "python",
   "nbconvert_exporter": "python",
   "pygments_lexer": "ipython3",
   "version": "3.6.8"
  }
 },
 "nbformat": 4,
 "nbformat_minor": 2
}
