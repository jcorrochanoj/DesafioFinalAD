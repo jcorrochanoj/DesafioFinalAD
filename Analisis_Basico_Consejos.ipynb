{
 "cells": [
  {
   "cell_type": "markdown",
   "metadata": {
    "colab_type": "text",
    "id": "5XN24A-ZkrjK"
   },
   "source": [
    "## Dataset consejos procesado\n"
   ]
  },
  {
   "cell_type": "code",
   "execution_count": 28,
   "metadata": {},
   "outputs": [],
   "source": [
    "import pandas as pd\n",
    "\n",
    "df_consejos = pd.read_csv('datos_consejos_limpio.csv')"
   ]
  },
  {
   "cell_type": "code",
   "execution_count": 29,
   "metadata": {},
   "outputs": [
    {
     "data": {
      "text/html": [
       "<div>\n",
       "<style scoped>\n",
       "    .dataframe tbody tr th:only-of-type {\n",
       "        vertical-align: middle;\n",
       "    }\n",
       "\n",
       "    .dataframe tbody tr th {\n",
       "        vertical-align: top;\n",
       "    }\n",
       "\n",
       "    .dataframe thead th {\n",
       "        text-align: right;\n",
       "    }\n",
       "</style>\n",
       "<table border=\"1\" class=\"dataframe\">\n",
       "  <thead>\n",
       "    <tr style=\"text-align: right;\">\n",
       "      <th></th>\n",
       "      <th>usuario_id</th>\n",
       "      <th>negocio_id</th>\n",
       "      <th>texto</th>\n",
       "      <th>num_likes</th>\n",
       "      <th>anyo</th>\n",
       "      <th>mes</th>\n",
       "      <th>dia</th>\n",
       "      <th>hora</th>\n",
       "      <th>minuto</th>\n",
       "      <th>sentimiento</th>\n",
       "    </tr>\n",
       "  </thead>\n",
       "  <tbody>\n",
       "    <tr>\n",
       "      <th>0</th>\n",
       "      <td>UPw5DWs_b-e2JRBS-t37Ag</td>\n",
       "      <td>VaKXUpmWTTWDKbpJ3aQdMw</td>\n",
       "      <td>Great for watching games, ufc, and whatever el...</td>\n",
       "      <td>0</td>\n",
       "      <td>2014</td>\n",
       "      <td>3</td>\n",
       "      <td>27</td>\n",
       "      <td>3</td>\n",
       "      <td>51</td>\n",
       "      <td>1</td>\n",
       "    </tr>\n",
       "    <tr>\n",
       "      <th>1</th>\n",
       "      <td>Ocha4kZBHb4JK0lOWvE0sg</td>\n",
       "      <td>OPiPeoJiv92rENwbq76orA</td>\n",
       "      <td>Happy Hour 2-4 daily with 1/2 price drinks and...</td>\n",
       "      <td>0</td>\n",
       "      <td>2013</td>\n",
       "      <td>5</td>\n",
       "      <td>25</td>\n",
       "      <td>6</td>\n",
       "      <td>0</td>\n",
       "      <td>0</td>\n",
       "    </tr>\n",
       "    <tr>\n",
       "      <th>2</th>\n",
       "      <td>jRyO2V1pA4CdVVqCIOPc1Q</td>\n",
       "      <td>5KheTjYPu1HcQzQFtm4_vw</td>\n",
       "      <td>Good chips and salsa. Loud at times. Good serv...</td>\n",
       "      <td>0</td>\n",
       "      <td>2011</td>\n",
       "      <td>12</td>\n",
       "      <td>26</td>\n",
       "      <td>1</td>\n",
       "      <td>46</td>\n",
       "      <td>0</td>\n",
       "    </tr>\n",
       "    <tr>\n",
       "      <th>3</th>\n",
       "      <td>FuTJWFYm4UKqewaosss1KA</td>\n",
       "      <td>TkoyGi8J7YFjA6SbaRzrxg</td>\n",
       "      <td>The setting and decoration here is amazing. Co...</td>\n",
       "      <td>0</td>\n",
       "      <td>2014</td>\n",
       "      <td>3</td>\n",
       "      <td>23</td>\n",
       "      <td>21</td>\n",
       "      <td>32</td>\n",
       "      <td>1</td>\n",
       "    </tr>\n",
       "    <tr>\n",
       "      <th>4</th>\n",
       "      <td>LUlKtaM3nXd-E4N4uOk_fQ</td>\n",
       "      <td>AkL6Ous6A1atZejfZXn1Bg</td>\n",
       "      <td>Molly is definately taking a picture with Sant...</td>\n",
       "      <td>0</td>\n",
       "      <td>2012</td>\n",
       "      <td>10</td>\n",
       "      <td>6</td>\n",
       "      <td>0</td>\n",
       "      <td>19</td>\n",
       "      <td>0</td>\n",
       "    </tr>\n",
       "    <tr>\n",
       "      <th>5</th>\n",
       "      <td>iAd8XaHxv05iXyEiZ62Ibw</td>\n",
       "      <td>kj1p6NwUGROOoqNySf0I1Q</td>\n",
       "      <td>It's true! The drunken noodles are outrageous!</td>\n",
       "      <td>0</td>\n",
       "      <td>2011</td>\n",
       "      <td>12</td>\n",
       "      <td>31</td>\n",
       "      <td>18</td>\n",
       "      <td>2</td>\n",
       "      <td>-1</td>\n",
       "    </tr>\n",
       "    <tr>\n",
       "      <th>6</th>\n",
       "      <td>w8p4JW6-ERsbg8aB5wjEAg</td>\n",
       "      <td>0hudPyuCBlKg79OwKBw-eQ</td>\n",
       "      <td>Only worth a visit in the summer time, to take...</td>\n",
       "      <td>0</td>\n",
       "      <td>2012</td>\n",
       "      <td>10</td>\n",
       "      <td>11</td>\n",
       "      <td>23</td>\n",
       "      <td>6</td>\n",
       "      <td>1</td>\n",
       "    </tr>\n",
       "    <tr>\n",
       "      <th>7</th>\n",
       "      <td>CaFbX7topxdLpBJ_SNDfGQ</td>\n",
       "      <td>r49iBfbnfoK7yt4rdsL_7g</td>\n",
       "      <td>Hands down best AYCE in town! Love it!</td>\n",
       "      <td>0</td>\n",
       "      <td>2016</td>\n",
       "      <td>1</td>\n",
       "      <td>5</td>\n",
       "      <td>6</td>\n",
       "      <td>39</td>\n",
       "      <td>1</td>\n",
       "    </tr>\n",
       "    <tr>\n",
       "      <th>8</th>\n",
       "      <td>VLy6l8L72adD7iTBNqiPXw</td>\n",
       "      <td>YCRCFBr6myPS49on2aS2pQ</td>\n",
       "      <td>Sat in the drive thru this afternoon for 30 mi...</td>\n",
       "      <td>0</td>\n",
       "      <td>2017</td>\n",
       "      <td>3</td>\n",
       "      <td>13</td>\n",
       "      <td>3</td>\n",
       "      <td>29</td>\n",
       "      <td>-1</td>\n",
       "    </tr>\n",
       "    <tr>\n",
       "      <th>9</th>\n",
       "      <td>zrvk0-B91ahJRSB-UcAmIA</td>\n",
       "      <td>RTBIiq-fJUXRsrzbL4MCqw</td>\n",
       "      <td>Okay so I had a groupon for a nearby service c...</td>\n",
       "      <td>0</td>\n",
       "      <td>2013</td>\n",
       "      <td>2</td>\n",
       "      <td>8</td>\n",
       "      <td>20</td>\n",
       "      <td>55</td>\n",
       "      <td>1</td>\n",
       "    </tr>\n",
       "  </tbody>\n",
       "</table>\n",
       "</div>"
      ],
      "text/plain": [
       "               usuario_id              negocio_id  \\\n",
       "0  UPw5DWs_b-e2JRBS-t37Ag  VaKXUpmWTTWDKbpJ3aQdMw   \n",
       "1  Ocha4kZBHb4JK0lOWvE0sg  OPiPeoJiv92rENwbq76orA   \n",
       "2  jRyO2V1pA4CdVVqCIOPc1Q  5KheTjYPu1HcQzQFtm4_vw   \n",
       "3  FuTJWFYm4UKqewaosss1KA  TkoyGi8J7YFjA6SbaRzrxg   \n",
       "4  LUlKtaM3nXd-E4N4uOk_fQ  AkL6Ous6A1atZejfZXn1Bg   \n",
       "5  iAd8XaHxv05iXyEiZ62Ibw  kj1p6NwUGROOoqNySf0I1Q   \n",
       "6  w8p4JW6-ERsbg8aB5wjEAg  0hudPyuCBlKg79OwKBw-eQ   \n",
       "7  CaFbX7topxdLpBJ_SNDfGQ  r49iBfbnfoK7yt4rdsL_7g   \n",
       "8  VLy6l8L72adD7iTBNqiPXw  YCRCFBr6myPS49on2aS2pQ   \n",
       "9  zrvk0-B91ahJRSB-UcAmIA  RTBIiq-fJUXRsrzbL4MCqw   \n",
       "\n",
       "                                               texto  num_likes  anyo  mes  \\\n",
       "0  Great for watching games, ufc, and whatever el...          0  2014    3   \n",
       "1  Happy Hour 2-4 daily with 1/2 price drinks and...          0  2013    5   \n",
       "2  Good chips and salsa. Loud at times. Good serv...          0  2011   12   \n",
       "3  The setting and decoration here is amazing. Co...          0  2014    3   \n",
       "4  Molly is definately taking a picture with Sant...          0  2012   10   \n",
       "5     It's true! The drunken noodles are outrageous!          0  2011   12   \n",
       "6  Only worth a visit in the summer time, to take...          0  2012   10   \n",
       "7             Hands down best AYCE in town! Love it!          0  2016    1   \n",
       "8  Sat in the drive thru this afternoon for 30 mi...          0  2017    3   \n",
       "9  Okay so I had a groupon for a nearby service c...          0  2013    2   \n",
       "\n",
       "   dia  hora  minuto  sentimiento  \n",
       "0   27     3      51            1  \n",
       "1   25     6       0            0  \n",
       "2   26     1      46            0  \n",
       "3   23    21      32            1  \n",
       "4    6     0      19            0  \n",
       "5   31    18       2           -1  \n",
       "6   11    23       6            1  \n",
       "7    5     6      39            1  \n",
       "8   13     3      29           -1  \n",
       "9    8    20      55            1  "
      ]
     },
     "execution_count": 29,
     "metadata": {},
     "output_type": "execute_result"
    }
   ],
   "source": [
    "df_consejos.head(10)"
   ]
  },
  {
   "cell_type": "markdown",
   "metadata": {},
   "source": [
    "### Descripción de atributos\n",
    "\n",
    "- **usuario_id**: String que contiene un conjunto de números y letras que identifican unívocamente a un usuario que realiza una reseña.\n",
    "- **negocio_id**: String que contiene un conjunto de números y letras que identifican unívocamente a un negocio que es elemento valorado en la     reseña.\n",
    "- **texto**: Texto que contiene la reseña de un usuario acerca de un negocio.\n",
    "- **num_likes**: Numero de likes recibidos por la reseña. Valores de [0 a 15]\n",
    "- **anyo**: Año en el que se realizó la reseña. Valores de  [2009 a 2018]\n",
    "- **mes**: Mes en el que se realizó la reseña. Valores de [1 a 12]\n",
    "- **dia**: Día en el que se realizó la reseña. Valores de [0 a 31]\n",
    "- **hora**: Hora en la que se realizó la reseña. Valores de [0 a 23]\n",
    "- **minuto**: Minuto en el que se realizó la reseña. Valores de [0 a 59]\n",
    "- **Sentimiento**: Sentimiento del texto en -1: Negativo, 0: Neutral, 1: Positivo."
   ]
  },
  {
   "cell_type": "markdown",
   "metadata": {
    "colab_type": "text",
    "id": "pAI3OMnokrki"
   },
   "source": [
    "## Análisis descriptivo\n",
    "\n",
    "Inicialmente, lanzamos un describe para conocer cómo se distribuyen los datos y posibles incoherencias en los mismos, como número de likes negativos... etc."
   ]
  },
  {
   "cell_type": "code",
   "execution_count": 30,
   "metadata": {
    "colab": {},
    "colab_type": "code",
    "id": "cfWRvYUXkrkk",
    "outputId": "2568ad49-64c4-4d60-a58a-fb7411313a30",
    "scrolled": true
   },
   "outputs": [
    {
     "data": {
      "text/html": [
       "<div>\n",
       "<style scoped>\n",
       "    .dataframe tbody tr th:only-of-type {\n",
       "        vertical-align: middle;\n",
       "    }\n",
       "\n",
       "    .dataframe tbody tr th {\n",
       "        vertical-align: top;\n",
       "    }\n",
       "\n",
       "    .dataframe thead th {\n",
       "        text-align: right;\n",
       "    }\n",
       "</style>\n",
       "<table border=\"1\" class=\"dataframe\">\n",
       "  <thead>\n",
       "    <tr style=\"text-align: right;\">\n",
       "      <th></th>\n",
       "      <th>num_likes</th>\n",
       "      <th>anyo</th>\n",
       "      <th>mes</th>\n",
       "      <th>dia</th>\n",
       "      <th>hora</th>\n",
       "      <th>minuto</th>\n",
       "      <th>sentimiento</th>\n",
       "    </tr>\n",
       "  </thead>\n",
       "  <tbody>\n",
       "    <tr>\n",
       "      <th>count</th>\n",
       "      <td>1.22309e+06</td>\n",
       "      <td>1.22309e+06</td>\n",
       "      <td>1.22309e+06</td>\n",
       "      <td>1.22309e+06</td>\n",
       "      <td>1.22309e+06</td>\n",
       "      <td>1.22309e+06</td>\n",
       "      <td>1.22309e+06</td>\n",
       "    </tr>\n",
       "    <tr>\n",
       "      <th>mean</th>\n",
       "      <td>0.0164738</td>\n",
       "      <td>2014.08</td>\n",
       "      <td>6.37506</td>\n",
       "      <td>15.7498</td>\n",
       "      <td>12.0047</td>\n",
       "      <td>29.5622</td>\n",
       "      <td>0.463713</td>\n",
       "    </tr>\n",
       "    <tr>\n",
       "      <th>std</th>\n",
       "      <td>0.14564</td>\n",
       "      <td>2.29733</td>\n",
       "      <td>3.2916</td>\n",
       "      <td>8.80876</td>\n",
       "      <td>8.43059</td>\n",
       "      <td>17.3066</td>\n",
       "      <td>0.623019</td>\n",
       "    </tr>\n",
       "    <tr>\n",
       "      <th>min</th>\n",
       "      <td>0</td>\n",
       "      <td>2009</td>\n",
       "      <td>1</td>\n",
       "      <td>1</td>\n",
       "      <td>0</td>\n",
       "      <td>0</td>\n",
       "      <td>-1</td>\n",
       "    </tr>\n",
       "    <tr>\n",
       "      <th>25%</th>\n",
       "      <td>0</td>\n",
       "      <td>2012</td>\n",
       "      <td>4</td>\n",
       "      <td>8</td>\n",
       "      <td>3</td>\n",
       "      <td>15</td>\n",
       "      <td>0</td>\n",
       "    </tr>\n",
       "    <tr>\n",
       "      <th>50%</th>\n",
       "      <td>0</td>\n",
       "      <td>2014</td>\n",
       "      <td>6</td>\n",
       "      <td>16</td>\n",
       "      <td>15</td>\n",
       "      <td>30</td>\n",
       "      <td>1</td>\n",
       "    </tr>\n",
       "    <tr>\n",
       "      <th>75%</th>\n",
       "      <td>0</td>\n",
       "      <td>2016</td>\n",
       "      <td>9</td>\n",
       "      <td>23</td>\n",
       "      <td>20</td>\n",
       "      <td>45</td>\n",
       "      <td>1</td>\n",
       "    </tr>\n",
       "    <tr>\n",
       "      <th>max</th>\n",
       "      <td>15</td>\n",
       "      <td>2018</td>\n",
       "      <td>12</td>\n",
       "      <td>31</td>\n",
       "      <td>23</td>\n",
       "      <td>59</td>\n",
       "      <td>1</td>\n",
       "    </tr>\n",
       "  </tbody>\n",
       "</table>\n",
       "</div>"
      ],
      "text/plain": [
       "         num_likes         anyo          mes          dia         hora  \\\n",
       "count  1.22309e+06  1.22309e+06  1.22309e+06  1.22309e+06  1.22309e+06   \n",
       "mean     0.0164738      2014.08      6.37506      15.7498      12.0047   \n",
       "std        0.14564      2.29733       3.2916      8.80876      8.43059   \n",
       "min              0         2009            1            1            0   \n",
       "25%              0         2012            4            8            3   \n",
       "50%              0         2014            6           16           15   \n",
       "75%              0         2016            9           23           20   \n",
       "max             15         2018           12           31           23   \n",
       "\n",
       "            minuto  sentimiento  \n",
       "count  1.22309e+06  1.22309e+06  \n",
       "mean       29.5622     0.463713  \n",
       "std        17.3066     0.623019  \n",
       "min              0           -1  \n",
       "25%             15            0  \n",
       "50%             30            1  \n",
       "75%             45            1  \n",
       "max             59            1  "
      ]
     },
     "execution_count": 30,
     "metadata": {},
     "output_type": "execute_result"
    }
   ],
   "source": [
    "# Lo ponemos de esta forma para quitar la notación científica\n",
    "df_consejos.describe().apply(lambda s: s.apply(lambda x: format(x, 'g')))\n"
   ]
  },
  {
   "cell_type": "markdown",
   "metadata": {},
   "source": [
    "- **num_likes:** La mayoría de comentarios sobre negocios no tienen likes como se puede observar. Hasta el 75% de los valores son de comentarios sin likes. Por lo que la media se acerca mucho a 0. El comentario con mayor puntuación llega a 15 likes y se puede ver que no hay puntuaciones negativas.\n",
    "\n",
    "- **año:** La media está bastante centrada y no tiene una desviación típica muy elevada por lo que la mayoría de los datos están relativamente cerca de la media. Observando los cuartiles se puede ver que los primeros 25% de los datos se distribuyen en 3 años mientras que los siguientes 50% se distribuyen en 4 esto puede ser porque en los primeros años de recogida no había suficientes comentarios.\n",
    "\n",
    "- **mes:** La media de los comentarios es de 6.37 esto puede significar que la mayoría de los datos se acumulan en este mes o si la desviación es alta es posible que los comentarios se produzcan a lo largo de todos los meses. Observando los cuartiles se puede observar como el 25% de los comentarios se acumulan en los 4 primeros meses, mientras que los siguientes 2 meses se acumula otro 25% por lo tanto cuanto más centrados los meses (que corresponden con el verano) más comentarios se producen.\n",
    "\n",
    "- **dia:** Observando la media de los días se puede ver bastante centrada aunque con una desviación típica elevada que indica que los valores no están concentrados cerca del valor medio. Además observando los cuartiles se puede apreciar una distribución bastante uniforme de los datos con lo cual no parece que el día del mes en principio influya para dejar comentarios\n",
    "\n",
    "- **hora:** Observando la media y la desviación típica se puede apreciar que la distribución de los comentarios por ahora no se acumula en los valores medios. Además observando como el 25% de los primeros datos se acumulan en las 3 primeras horas y como los 25% últimos datos se acumulan en las 3 últimas. Se puede sospechar que dependiendo de las horas la afluencia de comentarios puede variar.\n",
    "\n",
    "- **minuto:** Observando como la media de los minutos es 30 y como la desviación típica es bastante elevada se puede deducir que la distribución de los comentarios no se acumula en la media. Además  se puede ver una distribución uniforme ya que  los cuartiles coinciden perfectamente con los cuartos de una hora (15,30,45 y 60 que en este caso seria 59). Por lo tanto no hay minutos más significativos donde los usuarios traten de dejar más comentarios.\n",
    "\n",
    "- **sentimiento**: La media está en torno a 0.5, por lo que la mayoria de los comentarios/consejos son positivos. Existe menos de un 25% de negativos, menos o igual a un 25% de neutrales yel resto son positivas. Claramente la gran mayoría son comentarios positivos.\n"
   ]
  },
  {
   "cell_type": "markdown",
   "metadata": {},
   "source": [
    "## ANALISIS COMENTARIOS\n",
    "\n",
    "Tras haber analizado mediente el describe las estidisticas basicas de los datos se van a graficar el numero de comentarios por año mes dia y minuto, para tratar "
   ]
  },
  {
   "cell_type": "markdown",
   "metadata": {
    "colab_type": "text",
    "id": "mlx8fZr-krl2"
   },
   "source": [
    "### Numero de comentarios por año"
   ]
  },
  {
   "cell_type": "code",
   "execution_count": 4,
   "metadata": {
    "colab": {},
    "colab_type": "code",
    "id": "rF2S9pskkrl3",
    "outputId": "0200f44d-dfe5-413f-be6d-a0c52ad70679"
   },
   "outputs": [
    {
     "data": {
      "text/plain": [
       "Text(0.5, 1.0, 'Numero de comentarios por año')"
      ]
     },
     "execution_count": 4,
     "metadata": {},
     "output_type": "execute_result"
    },
    {
     "data": {
      "image/png": "[encoded data removed]",
      "text/plain": [
       "<Figure size 432x288 with 1 Axes>"
      ]
     },
     "metadata": {
      "needs_background": "light"
     },
     "output_type": "display_data"
    }
   ],
   "source": [
    "import matplotlib.pyplot as plt\n",
    "import seaborn as sns\n",
    "\n",
    "fig=plt.figure(figsize=(6,4))\n",
    "\n",
    "ax = sns.countplot(x=\"anyo\", data=df_consejos, palette=\"Blues_d\")\n",
    "plt.title(\"Numero de comentarios por año\")"
   ]
  },
  {
   "cell_type": "markdown",
   "metadata": {},
   "source": [
    "- Se puede ver un incremento de los registros de los comentarios en los primeros años hasta llegar a 2012, esta época podría ser del crecimiento de la plataforma.\n",
    "\n",
    "- A partir de ese punto el numero de comentarios decae lentamente.\n",
    "\n",
    "- Este gráfico se puede comparar con el de registros por año en el que se veía un crecimiento del número de registros hasta el 2015, año en el que los registros comienzan a disminuir. En este caso no se ve una disminución tan drástica, esto nos puede indicar que aunque dejaron de aparecer muchos nuevos usuarios, la plataforma se seguía utilizando al mismo nivel o decayendo un poco (sobre todo en 2018).\n",
    "\n",
    "- El primer comentario recogido es del 2009, y el primer registro de usuario en 2004, lo que indica que estos comentarios se añadieron más tarde a la plataforma o al menos que no tenemos información sobre ellos."
   ]
  },
  {
   "cell_type": "markdown",
   "metadata": {
    "colab_type": "text",
    "id": "vWKn3QWTkrl7"
   },
   "source": [
    "### Numero de comentarios por mes"
   ]
  },
  {
   "cell_type": "code",
   "execution_count": 22,
   "metadata": {
    "colab": {},
    "colab_type": "code",
    "id": "Y2W6rGNjkrl8",
    "outputId": "0c2f7299-8206-4e6d-8d32-d9e456f545fd"
   },
   "outputs": [
    {
     "data": {
      "text/plain": [
       "Text(0.5, 1.0, 'Numero de registros por mes')"
      ]
     },
     "execution_count": 22,
     "metadata": {},
     "output_type": "execute_result"
    },
    {
     "data": {
      "image/png": "[encoded data removed]",
      "text/plain": [
       "<Figure size 432x288 with 1 Axes>"
      ]
     },
     "metadata": {
      "needs_background": "light"
     },
     "output_type": "display_data"
    }
   ],
   "source": [
    "ax = sns.countplot(x=\"mes\", data=df_consejos, palette=\"Blues_d\")\n",
    "plt.title(\"Numero de registros por mes\")"
   ]
  },
  {
   "cell_type": "markdown",
   "metadata": {},
   "source": [
    "- Los numeros del eje x representan los nombres de los meses y estan ordenados de enero (1) a diciembre (12).\n",
    "\n",
    "- Se puede observar como desde octubre a febrero el numero de comentarios es mas bajo de lo normal posiblemente porque en invierno la gente salga menos a distintos sitios y por lo tanto dejen menos comentarios.\n",
    "\n",
    "- Se puede observar que en julio y agosto hay un pico significativo en los comentarios posiblemente porque en verano la gente tiene mas tiempo libre y hace mejor clima para salir a distintos sitios y dejar mas comentarios."
   ]
  },
  {
   "cell_type": "markdown",
   "metadata": {
    "colab_type": "text",
    "id": "bY__zB7rkrmA"
   },
   "source": [
    "### Numero de comentarios por dia"
   ]
  },
  {
   "cell_type": "code",
   "execution_count": 24,
   "metadata": {
    "colab": {},
    "colab_type": "code",
    "id": "2YGJ3I28krmC",
    "outputId": "f9676ede-b374-4226-cf25-965950fc18db"
   },
   "outputs": [
    {
     "data": {
      "text/plain": [
       "Text(0.5, 1.0, 'Numero de registros por dia')"
      ]
     },
     "execution_count": 24,
     "metadata": {},
     "output_type": "execute_result"
    },
    {
     "data": {
      "image/png": "[encoded data removed]",
      "text/plain": [
       "<Figure size 720x288 with 1 Axes>"
      ]
     },
     "metadata": {
      "needs_background": "light"
     },
     "output_type": "display_data"
    }
   ],
   "source": [
    "fig=plt.figure(figsize=(10,4))\n",
    "ax = sns.countplot(x=\"dia\", data=df_consejos, palette=\"Blues_d\")\n",
    "plt.title(\"Numero de registros por dia\")"
   ]
  },
  {
   "cell_type": "markdown",
   "metadata": {},
   "source": [
    "-Se puede ver como los dias no influye en el numero de comentarios ya que no hay grandes variaciones.\n",
    "\n",
    "-Al final los valores de los comentarios por dia decaen ya que no todos los meses tienen 31 dias."
   ]
  },
  {
   "cell_type": "markdown",
   "metadata": {
    "colab_type": "text",
    "id": "XahrUuO4krmH"
   },
   "source": [
    "### Numero de comentarios por hora"
   ]
  },
  {
   "cell_type": "code",
   "execution_count": 26,
   "metadata": {
    "colab": {},
    "colab_type": "code",
    "id": "6sk4n4xrkrmH",
    "outputId": "0f43c73c-068b-42c6-d0fd-7cab9afd2bf8"
   },
   "outputs": [
    {
     "data": {
      "text/plain": [
       "Text(0.5, 1.0, 'Numero de registros por hora')"
      ]
     },
     "execution_count": 26,
     "metadata": {},
     "output_type": "execute_result"
    },
    {
     "data": {
      "image/png": "[encoded data removed]",
      "text/plain": [
       "<Figure size 432x288 with 1 Axes>"
      ]
     },
     "metadata": {
      "needs_background": "light"
     },
     "output_type": "display_data"
    }
   ],
   "source": [
    "fig=plt.figure(figsize=(6,4))\n",
    "ax = sns.countplot(x=\"hora\", data=df_consejos, palette=\"Blues_d\")\n",
    "plt.title(\"Numero de registros por hora\")"
   ]
  },
  {
   "cell_type": "markdown",
   "metadata": {},
   "source": [
    "- Se puede ver claramente como hay una tendencia clara a dejar comentarios a ciertas horas. Esta tendencia corresponde con las horas de descanso en el país en el que se realiza el uso. La hora esta ajustada a UTC+0 por lo que no se corresponde con las horas reales de uso, pero sí la tendencia.\n",
    "\n",
    "- Este gráfrico tambien se puede comparar con el de registros por hora de usuarios. Se sigue la misma distribución, de nuevo, por la misma razón, el uso de la plataforma en las horas más normales."
   ]
  },
  {
   "cell_type": "markdown",
   "metadata": {
    "colab_type": "text",
    "id": "aF7GiZpwkrmM"
   },
   "source": [
    "### Numero de comentarios por minuto"
   ]
  },
  {
   "cell_type": "code",
   "execution_count": 104,
   "metadata": {
    "colab": {
     "base_uri": "https://localhost:8080/",
     "height": 180
    },
    "colab_type": "code",
    "executionInfo": {
     "elapsed": 696,
     "status": "error",
     "timestamp": 1574012556970,
     "user": {
      "displayName": "DIEGO CABEZA GONZALEZ",
      "photoUrl": "https://lh3.googleusercontent.com/a-/AAuE7mCrDhiBN3r3AofUju0BCU3TawWUiC7u1v7QZ0r5=s64",
      "userId": "04085294160886615276"
     },
     "user_tz": -60
    },
    "id": "mR7rcQcUkrmP",
    "outputId": "20d1f26f-1089-46b3-f235-97bc1ee05d1e"
   },
   "outputs": [
    {
     "data": {
      "text/plain": [
       "<matplotlib.axes._subplots.AxesSubplot at 0x7f8c8163a160>"
      ]
     },
     "execution_count": 104,
     "metadata": {},
     "output_type": "execute_result"
    },
    {
     "data": {
      "image/png": "[encoded data removed]",
      "text/plain": [
       "<Figure size 432x288 with 1 Axes>"
      ]
     },
     "metadata": {
      "needs_background": "light"
     },
     "output_type": "display_data"
    }
   ],
   "source": [
    "gk=df_consejos.drop(['mes','anyo','num_likes','hora','negocio_id','usuario_id','dia'],axis=1)\n",
    "gk.groupby('minuto').count().plot()"
   ]
  },
  {
   "cell_type": "markdown",
   "metadata": {},
   "source": [
    "-Se puede apreciar una funcion con muchos altibajos que no varia mucho ya que el maximo es 20700 y el minimo 20100 esto supone solo una diferencia de 600 para valores de 20000. Por lo tanto los minutos no son relevantes a la hora de analizar los comentarios lo cual tiene sentido ya que las personas no se fijan en una medida de tiempo tan pequeña para dejar comentarios."
   ]
  },
  {
   "cell_type": "markdown",
   "metadata": {},
   "source": [
    "## ANALISIS DE USUARIOS"
   ]
  },
  {
   "cell_type": "markdown",
   "metadata": {},
   "source": [
    "En este momento esto no nos sirve para nada, pero si juntamos dataset de consejos y usuarios, podriamos ver las características de los usuarios que más comentan."
   ]
  },
  {
   "cell_type": "code",
   "execution_count": 38,
   "metadata": {
    "scrolled": true
   },
   "outputs": [
    {
     "data": {
      "text/plain": [
       "usuario_id\n",
       "mkbx55W8B8aPLgDqex7qgg    2439\n",
       "CxDOIDnH8gp9KXzpBHJYXw    1598\n",
       "6ZC-0LfOAGwaFc5XPke74w    1509\n",
       "0tvCcnfJnSs55iB6mqPk3w    1376\n",
       "eZfHm0qI8A_HfvXScwIYsg    1352\n",
       "O8eDScRAg6ae0l9Bc24uMA    1255\n",
       "8DGFWco9VeBAxjqsuh1aSw    1178\n",
       "WJKocp9RE0KatUwh3_DkGg    1161\n",
       "2EuPAGalYnP7eSxPgFCNDg    1154\n",
       "QPJJohtGqkMkaN0Gt3TRIg    1017\n",
       "Name: texto, dtype: int64"
      ]
     },
     "execution_count": 38,
     "metadata": {},
     "output_type": "execute_result"
    }
   ],
   "source": [
    "df_consejos.groupby('usuario_id').count().sort_values(['texto'], ascending=False).head(10)['texto']"
   ]
  },
  {
   "cell_type": "markdown",
   "metadata": {},
   "source": [
    "Ahora vamos a obtener los usuarios que más comentarios negativos o positivos dejan, con estos datos también podríamos ver en el dataset de usuarios que tipo de usuarios son."
   ]
  },
  {
   "cell_type": "code",
   "execution_count": 97,
   "metadata": {},
   "outputs": [
    {
     "data": {
      "text/plain": [
       "usuario_id\n",
       "mkbx55W8B8aPLgDqex7qgg    150\n",
       "8DGFWco9VeBAxjqsuh1aSw    108\n",
       "sCbcImu1yyzncjWN7L9hXA    101\n",
       "0ygWZ_gXF8qTm0bY95JJqA     94\n",
       "O8eDScRAg6ae0l9Bc24uMA     91\n",
       "6ZC-0LfOAGwaFc5XPke74w     85\n",
       "eZfHm0qI8A_HfvXScwIYsg     81\n",
       "CxDOIDnH8gp9KXzpBHJYXw     81\n",
       "5dKknvq65x-SaluuJjT0Kw     73\n",
       "0tvCcnfJnSs55iB6mqPk3w     73\n",
       "Name: texto, dtype: int64"
      ]
     },
     "execution_count": 97,
     "metadata": {},
     "output_type": "execute_result"
    }
   ],
   "source": [
    "negativos = df_consejos[df_consejos['sentimiento'] == -1].groupby(['usuario_id']).count().sort_values(['texto'], ascending=False).head(10)['texto'].index\n",
    "df_consejos[df_consejos['sentimiento'] == -1].groupby(['usuario_id']).count().sort_values(['texto'], ascending=False).head(10)['texto']"
   ]
  },
  {
   "cell_type": "code",
   "execution_count": 98,
   "metadata": {},
   "outputs": [
    {
     "data": {
      "text/plain": [
       "usuario_id\n",
       "mkbx55W8B8aPLgDqex7qgg    1008\n",
       "6ZC-0LfOAGwaFc5XPke74w     632\n",
       "O8eDScRAg6ae0l9Bc24uMA     615\n",
       "WJKocp9RE0KatUwh3_DkGg     613\n",
       "QPJJohtGqkMkaN0Gt3TRIg     606\n",
       "CxDOIDnH8gp9KXzpBHJYXw     547\n",
       "eZfHm0qI8A_HfvXScwIYsg     546\n",
       "tQPk4JiBPsx7NSIDbW49Vg     462\n",
       "uG35h72BAMutvXAWdRpqCQ     446\n",
       "A0j21z2Q1HGic7jW6e9h7A     427\n",
       "Name: texto, dtype: int64"
      ]
     },
     "execution_count": 98,
     "metadata": {},
     "output_type": "execute_result"
    }
   ],
   "source": [
    "positivos = df_consejos[df_consejos['sentimiento'] == 1].groupby(['usuario_id']).count().sort_values(['texto'], ascending=False).head(10)['texto'].index\n",
    "df_consejos[df_consejos['sentimiento'] == 1].groupby(['usuario_id']).count().sort_values(['texto'], ascending=False).head(10)['texto']"
   ]
  },
  {
   "cell_type": "markdown",
   "metadata": {},
   "source": [
    "A primera vista no se puede obtener ninguna conclusión importante, pero sí será interesante ver quienes son estos usuarios, cuantos seguidores tienen, si han sido expertos... etc. Algo que si se puede ver en los datos anteriores es que algunos de los usuarios que más comentan son también los que más comentan de forma positiva y negativa, tiene sentido ya que comentarán aquello que se encuentren, pero si encontrasemos un usuario que solo comenta de forma negativa, podríamos detectar 'haters'. Hemos recogido los 10 usuarios con más comentasrios negativos, los 10 con más positivos, la diferencia entre esas listas nos podría indicar posibles haters (o simplemente usuarios que suelen usar los comentarios apra decir cosas negativas)."
   ]
  },
  {
   "cell_type": "code",
   "execution_count": 99,
   "metadata": {},
   "outputs": [],
   "source": [
    "negativos = negativos.tolist()\n",
    "positivos = positivos.tolist()"
   ]
  },
  {
   "cell_type": "code",
   "execution_count": 100,
   "metadata": {},
   "outputs": [
    {
     "data": {
      "text/plain": [
       "['8DGFWco9VeBAxjqsuh1aSw',\n",
       " '0tvCcnfJnSs55iB6mqPk3w',\n",
       " '0ygWZ_gXF8qTm0bY95JJqA',\n",
       " 'sCbcImu1yyzncjWN7L9hXA',\n",
       " '5dKknvq65x-SaluuJjT0Kw']"
      ]
     },
     "execution_count": 100,
     "metadata": {},
     "output_type": "execute_result"
    }
   ],
   "source": [
    "result = list(set(negativos) - set(positivos))\n",
    "result"
   ]
  },
  {
   "cell_type": "markdown",
   "metadata": {},
   "source": [
    "## ANALISIS DE NEGOCIOS"
   ]
  },
  {
   "cell_type": "markdown",
   "metadata": {},
   "source": [
    "De nuevo, en este momento esto no nos sirve para nada, pero si juntamos dataset de consejos y negocios, podríamos ver las características de los negocios más comentados.\n",
    "Obtenemos los 10 negocios con una mayor cantidad de comentarios:"
   ]
  },
  {
   "cell_type": "code",
   "execution_count": 39,
   "metadata": {
    "scrolled": true
   },
   "outputs": [
    {
     "data": {
      "text/plain": [
       "negocio_id\n",
       "FaHADZARwnY4yvlvpnsfGA    3614\n",
       "JmI9nslLD7KZqRr__Bg6NQ    2440\n",
       "DkYS3arLOhA8si5uUEmHOw    1503\n",
       "5LNZ67Yw9RD6nf4_UhXOjw    1487\n",
       "K7lWdNUhCbcnEvI0NhGewg    1386\n",
       "hihud--QRriCYZw1zZvW4g    1371\n",
       "RESDUcs7fIiihp38-d6_6g    1264\n",
       "4JNXUYY8wbaaDmk3BPzlWw    1121\n",
       "yfxDa8RFOvJPQh0rNtakHA    1117\n",
       "iCQpiavjjPzJ5_3gPD5Ebg    1105\n",
       "Name: texto, dtype: int64"
      ]
     },
     "execution_count": 39,
     "metadata": {},
     "output_type": "execute_result"
    }
   ],
   "source": [
    "df_consejos.groupby('negocio_id').count().sort_values(['texto'], ascending=False).head(10)['texto']"
   ]
  },
  {
   "cell_type": "markdown",
   "metadata": {},
   "source": [
    "Al igual que con los usuarios, sería interesante obtener los 10 negocios con mas comentarios negativos, los 10 negocios con más positivos y al hacer la diferencia obtener aquellos negocios que tienen muchos comentarios pero la mayoria son negativos. Tambien lo podemos hacer a la inversa para obtener aquellos con más comentarios pero la mayoria sean positivos."
   ]
  },
  {
   "cell_type": "code",
   "execution_count": 105,
   "metadata": {
    "scrolled": true
   },
   "outputs": [
    {
     "data": {
      "text/plain": [
       "negocio_id\n",
       "FaHADZARwnY4yvlvpnsfGA    296\n",
       "JmI9nslLD7KZqRr__Bg6NQ    181\n",
       "DkYS3arLOhA8si5uUEmHOw    121\n",
       "f4x1YBxkLrZg652xt2KR5g    120\n",
       "iCQpiavjjPzJ5_3gPD5Ebg    117\n",
       "g8OnV26ywJlZpezdBnOWUQ    106\n",
       "yfxDa8RFOvJPQh0rNtakHA    106\n",
       "K7lWdNUhCbcnEvI0NhGewg    104\n",
       "DN0b4Un8--Uf6SEWLeh0UA     89\n",
       "yQab5dxZzgBLTEHCw9V7_w     80\n",
       "Name: texto, dtype: int64"
      ]
     },
     "execution_count": 105,
     "metadata": {},
     "output_type": "execute_result"
    }
   ],
   "source": [
    "# Se obtienen los negativos\n",
    "negativos = df_consejos[df_consejos['sentimiento'] == -1].groupby(['negocio_id']).count().sort_values(['texto'], ascending=False).head(10)['texto'].index\n",
    "df_consejos[df_consejos['sentimiento'] == -1].groupby(['negocio_id']).count().sort_values(['texto'], ascending=False).head(10)['texto']"
   ]
  },
  {
   "cell_type": "code",
   "execution_count": 106,
   "metadata": {},
   "outputs": [
    {
     "data": {
      "text/plain": [
       "negocio_id\n",
       "hihud--QRriCYZw1zZvW4g    1215\n",
       "FaHADZARwnY4yvlvpnsfGA     963\n",
       "JmI9nslLD7KZqRr__Bg6NQ     747\n",
       "DkYS3arLOhA8si5uUEmHOw     674\n",
       "5LNZ67Yw9RD6nf4_UhXOjw     665\n",
       "4JNXUYY8wbaaDmk3BPzlWw     656\n",
       "K7lWdNUhCbcnEvI0NhGewg     623\n",
       "RESDUcs7fIiihp38-d6_6g     618\n",
       "eoHdUeQDNgQ6WYEnP2aiRw     551\n",
       "UPIYuRaZvknINOd1w8kqRQ     481\n",
       "Name: texto, dtype: int64"
      ]
     },
     "execution_count": 106,
     "metadata": {},
     "output_type": "execute_result"
    }
   ],
   "source": [
    "# Se obtienen los positivos\n",
    "positivos = df_consejos[df_consejos['sentimiento'] == 1].groupby(['negocio_id']).count().sort_values(['texto'], ascending=False).head(10)['texto'].index\n",
    "df_consejos[df_consejos['sentimiento'] == 1].groupby(['negocio_id']).count().sort_values(['texto'], ascending=False).head(10)['texto']"
   ]
  },
  {
   "cell_type": "code",
   "execution_count": 107,
   "metadata": {},
   "outputs": [],
   "source": [
    "negativos = negativos.tolist()\n",
    "positivos = positivos.tolist()"
   ]
  },
  {
   "cell_type": "code",
   "execution_count": 108,
   "metadata": {},
   "outputs": [
    {
     "data": {
      "text/plain": [
       "['iCQpiavjjPzJ5_3gPD5Ebg',\n",
       " 'yfxDa8RFOvJPQh0rNtakHA',\n",
       " 'DN0b4Un8--Uf6SEWLeh0UA',\n",
       " 'f4x1YBxkLrZg652xt2KR5g',\n",
       " 'yQab5dxZzgBLTEHCw9V7_w',\n",
       " 'g8OnV26ywJlZpezdBnOWUQ']"
      ]
     },
     "execution_count": 108,
     "metadata": {},
     "output_type": "execute_result"
    }
   ],
   "source": [
    "# Esta es la diferencia, es decir, los negocios con más comentarios negativos sin tener muchos positivos\n",
    "result = list(set(negativos) - set(positivos))\n",
    "result"
   ]
  },
  {
   "cell_type": "markdown",
   "metadata": {},
   "source": [
    "## ANALISIS LIKES\n",
    "\n",
    "El numero de likes que tienen los comentarios sigue distribuciones muy similares a las de los comentarios por lo tanto a no ser que haya excepciones las explicaciones son las mismas."
   ]
  },
  {
   "cell_type": "markdown",
   "metadata": {
    "colab_type": "text",
    "id": "4FrtHV-0krlF"
   },
   "source": [
    "## Numero de likes por año"
   ]
  },
  {
   "cell_type": "code",
   "execution_count": 11,
   "metadata": {
    "colab": {},
    "colab_type": "code",
    "id": "fHr-NJgOkrlH",
    "outputId": "ac2504f5-99e4-4da2-fd24-6561e48f99d4",
    "scrolled": true
   },
   "outputs": [
    {
     "data": {
      "text/plain": [
       "<matplotlib.axes._subplots.AxesSubplot at 0x7f8c9feb2588>"
      ]
     },
     "execution_count": 11,
     "metadata": {},
     "output_type": "execute_result"
    },
    {
     "data": {
      "image/png": "[encoded data removed]",
      "text/plain": [
       "<Figure size 432x288 with 1 Axes>"
      ]
     },
     "metadata": {
      "needs_background": "light"
     },
     "output_type": "display_data"
    }
   ],
   "source": [
    "glikes=df_consejos.drop(['mes','dia','hora','minuto','texto','negocio_id','usuario_id'],axis=1)\n",
    "glikes.groupby('anyo').sum().plot()\n"
   ]
  },
  {
   "cell_type": "markdown",
   "metadata": {},
   "source": [
    "- Al igual que con el número de comentarios, se puede ver que la mayor cantidad de likes se recibieron en los años 2012, 2013... etc. "
   ]
  },
  {
   "cell_type": "markdown",
   "metadata": {
    "colab_type": "text",
    "id": "ytLLtXSOkrlO"
   },
   "source": [
    "## Numero de likes por Mes"
   ]
  },
  {
   "cell_type": "code",
   "execution_count": 12,
   "metadata": {
    "colab": {},
    "colab_type": "code",
    "id": "bjBQMlKJkrlP",
    "outputId": "2b292569-8c99-4d7f-d2d8-f33b1a16ad87"
   },
   "outputs": [
    {
     "data": {
      "text/plain": [
       "<matplotlib.axes._subplots.AxesSubplot at 0x7f8c9fe2b7b8>"
      ]
     },
     "execution_count": 12,
     "metadata": {},
     "output_type": "execute_result"
    },
    {
     "data": {
      "image/png": "[encoded data removed]",
      "text/plain": [
       "<Figure size 432x288 with 1 Axes>"
      ]
     },
     "metadata": {
      "needs_background": "light"
     },
     "output_type": "display_data"
    }
   ],
   "source": [
    "glikes=df_consejos.drop(['anyo','dia','hora','minuto','texto','negocio_id','usuario_id'],axis=1)\n",
    "glikes.groupby('mes').sum().plot()"
   ]
  },
  {
   "cell_type": "markdown",
   "metadata": {},
   "source": [
    "- Al igual que con los comentarios, los meses de mayor uso de la plataforma son los meses de verano o de vacaciones."
   ]
  },
  {
   "cell_type": "markdown",
   "metadata": {
    "colab_type": "text",
    "id": "Wy47ycRSkrlm"
   },
   "source": [
    "## Numero de likes por Hora"
   ]
  },
  {
   "cell_type": "code",
   "execution_count": 14,
   "metadata": {
    "colab": {},
    "colab_type": "code",
    "id": "0lJKy7uUkrln",
    "outputId": "9ad8ff70-3b7b-4cf8-f335-3cfc7597df5b",
    "scrolled": true
   },
   "outputs": [
    {
     "data": {
      "text/plain": [
       "<matplotlib.axes._subplots.AxesSubplot at 0x7f8c9fd72a58>"
      ]
     },
     "execution_count": 14,
     "metadata": {},
     "output_type": "execute_result"
    },
    {
     "data": {
      "image/png": "[encoded data removed]",
      "text/plain": [
       "<Figure size 432x288 with 1 Axes>"
      ]
     },
     "metadata": {
      "needs_background": "light"
     },
     "output_type": "display_data"
    }
   ],
   "source": [
    "glikes=df_consejos.drop(['mes','anyo','dia','minuto','texto','negocio_id','usuario_id'],axis=1)\n",
    "glikes.groupby('hora').sum().plot()"
   ]
  },
  {
   "cell_type": "markdown",
   "metadata": {},
   "source": [
    "Sin ninguna novedad, este grafico nos vuelve a indicar las horas de uso de la plataforma."
   ]
  },
  {
   "cell_type": "markdown",
   "metadata": {},
   "source": [
    "## Boxplot\n",
    "Acontinuacion se pasara a analizar las estadisticas del numero de likes de los comentarios en funcion de los distintos meses. "
   ]
  },
  {
   "cell_type": "code",
   "execution_count": 16,
   "metadata": {
    "colab": {},
    "colab_type": "code",
    "id": "jc-uZhjxkrmU",
    "outputId": "65fed316-e49d-4a25-d8b3-8a4231f971ba"
   },
   "outputs": [
    {
     "data": {
      "text/plain": [
       "<matplotlib.axes._subplots.AxesSubplot at 0x7f8c9fcb9dd8>"
      ]
     },
     "execution_count": 16,
     "metadata": {},
     "output_type": "execute_result"
    },
    {
     "data": {
      "image/png": "[encoded data removed]",
      "text/plain": [
       "<Figure size 720x720 with 1 Axes>"
      ]
     },
     "metadata": {
      "needs_background": "light"
     },
     "output_type": "display_data"
    }
   ],
   "source": [
    "boxplot_consejos=df_consejos.drop(['texto','anyo','hora','negocio_id','usuario_id','dia','minuto'],axis=1)\n",
    "boxplot_consejos.boxplot(by=\"mes\", figsize=(10,10))\n"
   ]
  },
  {
   "cell_type": "markdown",
   "metadata": {},
   "source": [
    "En el anterior boxplot que muestra la informacion de los likes que tienen los comentarios se puede ver que la mayoria de likes estan acumulados en 0 que es donde estan todos los boxplot. El resto de valores son puntos atipicos que se salen de la media y por lo tanto no se puede sacar informacion relevante de ellos.\n",
    "\n",
    "Para poder tratar de analizar los demas comentarios la distribucion que siguen vamos a eliminar de la base todos los comentarios que tienen 0 likes"
   ]
  },
  {
   "cell_type": "code",
   "execution_count": 17,
   "metadata": {},
   "outputs": [
    {
     "name": "stdout",
     "output_type": "stream",
     "text": [
      "         num_likes          mes\n",
      "count  1715.000000  1715.000000\n",
      "mean      2.279883     6.449563\n",
      "std       0.808955     3.439287\n",
      "min       2.000000     1.000000\n",
      "25%       2.000000     3.000000\n",
      "50%       2.000000     7.000000\n",
      "75%       2.000000     9.000000\n",
      "max      15.000000    12.000000\n"
     ]
    },
    {
     "data": {
      "text/plain": [
       "<matplotlib.axes._subplots.AxesSubplot at 0x7f8c9fb222e8>"
      ]
     },
     "execution_count": 17,
     "metadata": {},
     "output_type": "execute_result"
    },
    {
     "data": {
      "image/png": "[encoded data removed]",
      "text/plain": [
       "<Figure size 432x288 with 1 Axes>"
      ]
     },
     "metadata": {
      "needs_background": "light"
     },
     "output_type": "display_data"
    }
   ],
   "source": [
    "boxplot_consejos=df_consejos.drop(df_consejos[df_consejos.num_likes <= 1].index)\n",
    "\n",
    "boxplot_consejos=boxplot_consejos.drop(['texto','anyo','hora','negocio_id','usuario_id','dia','minuto'],axis=1)\n",
    "print(boxplot_consejos.describe())\n",
    "boxplot_consejos.boxplot(by='mes')"
   ]
  },
  {
   "cell_type": "markdown",
   "metadata": {},
   "source": [
    "Se puede ver como el problema persiste con comentarios superiores a 0 likes por lo que se tratara de filtrar los comentarios por un numero de likes mas elevado"
   ]
  },
  {
   "cell_type": "code",
   "execution_count": 18,
   "metadata": {},
   "outputs": [
    {
     "name": "stdout",
     "output_type": "stream",
     "text": [
      "       num_likes        mes\n",
      "count   86.00000  86.000000\n",
      "mean     4.94186   6.779070\n",
      "std      1.83017   2.928164\n",
      "min      4.00000   1.000000\n",
      "25%      4.00000   5.000000\n",
      "50%      4.00000   7.000000\n",
      "75%      5.00000   9.000000\n",
      "max     15.00000  12.000000\n"
     ]
    },
    {
     "data": {
      "text/plain": [
       "<matplotlib.axes._subplots.AxesSubplot at 0x7f8c9fa102e8>"
      ]
     },
     "execution_count": 18,
     "metadata": {},
     "output_type": "execute_result"
    },
    {
     "data": {
      "image/png": "[encoded data removed]",
      "text/plain": [
       "<Figure size 432x288 with 1 Axes>"
      ]
     },
     "metadata": {
      "needs_background": "light"
     },
     "output_type": "display_data"
    }
   ],
   "source": [
    "boxplot_consejos=df_consejos.drop(df_consejos[df_consejos.num_likes <= 3].index)\n",
    "\n",
    "boxplot_consejos=boxplot_consejos.drop(['texto','anyo','hora','negocio_id','usuario_id','dia','minuto'],axis=1)\n",
    "print(boxplot_consejos.describe())\n",
    "boxplot_consejos.boxplot(by='mes')"
   ]
  },
  {
   "cell_type": "markdown",
   "metadata": {},
   "source": [
    "-El numero de comentarios que tienen 3 o mas likes es solamente de 86 en comparacion con los 1.2 millones de comentarios por lo que no supone un gran numero.\n"
   ]
  },
  {
   "cell_type": "markdown",
   "metadata": {},
   "source": [
    "*Posible ampliacion sacando 100 negocios y su evolucion por año*"
   ]
  },
  {
   "cell_type": "code",
   "execution_count": 19,
   "metadata": {},
   "outputs": [
    {
     "data": {
      "text/plain": [
       "<matplotlib.axes._subplots.AxesSubplot at 0x7f8c9f87a128>"
      ]
     },
     "execution_count": 19,
     "metadata": {},
     "output_type": "execute_result"
    },
    {
     "data": {
      "image/png": "[encoded data removed]",
      "text/plain": [
       "<Figure size 432x288 with 1 Axes>"
      ]
     },
     "metadata": {
      "needs_background": "light"
     },
     "output_type": "display_data"
    }
   ],
   "source": [
    "gk=df_consejos.drop(['texto','mes','hora','minuto','usuario_id','dia'],axis=1)\n",
    "gk[gk.negocio_id=='DkYS3arLOhA8si5uUEmHOw'].groupby(['anyo']).count().plot()"
   ]
  }
 ],
 "metadata": {
  "colab": {
   "name": "Preprocesado_ConsejosHyD.ipynb",
   "provenance": []
  },
  "kernelspec": {
   "display_name": "Python 3",
   "language": "python",
   "name": "python3"
  },
  "language_info": {
   "codemirror_mode": {
    "name": "ipython",
    "version": 3
   },
   "file_extension": ".py",
   "mimetype": "text/x-python",
   "name": "python",
   "nbconvert_exporter": "python",
   "pygments_lexer": "ipython3",
   "version": "3.6.9"
  }
 },
 "nbformat": 4,
 "nbformat_minor": 1
}
