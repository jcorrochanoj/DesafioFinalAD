{
 "cells": [
  {
   "cell_type": "markdown",
   "metadata": {},
   "source": [
    "## Índice de archivos de análisis\n",
    "\n",
    "En los siguientes archivos de jupyter se realiza el análisis de cada uno de los archivos de dataset que tenemos. \n",
    "\n",
    "En estos análisis el objetivo es comprender y familizarizarse con los datos y llegar a conclusiones interesantes que se van a ir planteando.\n",
    "<br>\n",
    "<font size=\"3\">\n",
    "1. <a href=\"/notebooks/Analisis/Analisis_Users (I).ipynb\">Análisis de usuarios (I) - General</a> <br>\n",
    "2. <a href=\"/notebooks/Analisis/Analisis_Users (II).ipynb\">Análisis de usuarios (II) - Influencers a fondo</a> <br>\n",
    "3. <a href=\"/notebooks/Analisis/Analisis_Consejos.ipynb\">Análisis del data set de Consejos</a> <br>\n",
    "4. <a href=\"/notebooks/Analisis/Analisis_Checks.ipynb\">Análisis del data set de Checks</a> <br>\n",
    "5. <a href=\"/notebooks/Analisis/Analisis_Opiniones.ipynb\">Análisis del data set de Opiniones</a> <br>\n",
    "6. <a href=\"/notebooks/Analisis/Analisis_NegociosPENDIENTE.ipynb\">Análisis del dataset de Negocios PENDIENTE</a> <br>\n",
    "7. <a href=\"/notebooks/Analisis/Analisis_Negocios (II).ipynb\">Análisis de negocios (II) - Negocios en el mapa</a> <br>\n",
    "8. <a href=\"/notebooks/Analisis/Analisis_Negocios (III).ipynb\">Análisis de negocios (III) - Data sets externos</a> <br>\n",
    "\n",
    "\n"
   ]
  }
 ],
 "metadata": {
  "kernelspec": {
   "display_name": "Python 3",
   "language": "python",
   "name": "python3"
  },
  "language_info": {
   "codemirror_mode": {
    "name": "ipython",
    "version": 3
   },
   "file_extension": ".py",
   "mimetype": "text/x-python",
   "name": "python",
   "nbconvert_exporter": "python",
   "pygments_lexer": "ipython3",
   "version": "3.6.8"
  }
 },
 "nbformat": 4,
 "nbformat_minor": 2
}
