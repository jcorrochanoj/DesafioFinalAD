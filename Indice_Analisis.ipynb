{
 "cells": [
  {
   "cell_type": "markdown",
   "metadata": {},
   "source": [
    "## Índice de archivos de análisis\n",
    "\n",
    "En los siguientes archivos de jupyter se realiza el análisis de cada uno de los archivos de dataset que tenemos. \n",
    "\n",
    "En estos análisis el objetivo es comprender y familizarizarse con los datos y llegar a conclusiones interesantes que se van a ir planteando.\n",
    "<br>\n",
    "<font size=\"3\">\n",
    "1. <a href=\"/notebooks/Analisis_Users (I).ipynb\">Análisis de usuarios (I) - General</a> <br>\n",
    "2. <a href=\"/notebooks/Analisis_Users (II).ipynb\">Análisis de usuarios (II) - Influencers a fondo</a> <br>\n",
    "3. <a href=\"/notebooks/Analisis_Consejos.ipynb\">Análisis del dataset de Consejos</a> <br>\n"
   ]
  }
 ],
 "metadata": {
  "kernelspec": {
   "display_name": "Python 3",
   "language": "python",
   "name": "python3"
  },
  "language_info": {
   "codemirror_mode": {
    "name": "ipython",
    "version": 3
   },
   "file_extension": ".py",
   "mimetype": "text/x-python",
   "name": "python",
   "nbconvert_exporter": "python",
   "pygments_lexer": "ipython3",
   "version": "3.6.8"
  }
 },
 "nbformat": 4,
 "nbformat_minor": 2
}
