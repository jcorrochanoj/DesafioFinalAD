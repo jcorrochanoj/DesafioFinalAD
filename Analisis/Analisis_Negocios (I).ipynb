{
 "cells": [
  {
   "cell_type": "code",
   "execution_count": 1,
   "metadata": {},
   "outputs": [],
   "source": [
    "import pandas as pd\n",
    "import re\n",
    "import numpy as np\n",
    "import matplotlib.pyplot as plt\n",
    "import seaborn as sns\n",
    "\n",
    "%matplotlib inline "
   ]
  },
  {
   "cell_type": "markdown",
   "metadata": {},
   "source": [
    "### Familiarización con los datos"
   ]
  },
  {
   "cell_type": "code",
   "execution_count": 2,
   "metadata": {
    "scrolled": false
   },
   "outputs": [
    {
     "data": {
      "text/html": [
       "<div>\n",
       "<style scoped>\n",
       "    .dataframe tbody tr th:only-of-type {\n",
       "        vertical-align: middle;\n",
       "    }\n",
       "\n",
       "    .dataframe tbody tr th {\n",
       "        vertical-align: top;\n",
       "    }\n",
       "\n",
       "    .dataframe thead th {\n",
       "        text-align: right;\n",
       "    }\n",
       "</style>\n",
       "<table border=\"1\" class=\"dataframe\">\n",
       "  <thead>\n",
       "    <tr style=\"text-align: right;\">\n",
       "      <th></th>\n",
       "      <th>negocio_id</th>\n",
       "      <th>nombre</th>\n",
       "      <th>direccion</th>\n",
       "      <th>ciudad</th>\n",
       "      <th>estado</th>\n",
       "      <th>codigo_postal</th>\n",
       "      <th>latitud</th>\n",
       "      <th>longitud</th>\n",
       "      <th>puntuacion</th>\n",
       "      <th>num_revisiones</th>\n",
       "      <th>abierto</th>\n",
       "      <th>atributos</th>\n",
       "      <th>categorias</th>\n",
       "      <th>horas</th>\n",
       "    </tr>\n",
       "  </thead>\n",
       "  <tbody>\n",
       "    <tr>\n",
       "      <td>0</td>\n",
       "      <td>1SWheh84yJXfytovILXOAQ</td>\n",
       "      <td>Arizona Biltmore Golf Club</td>\n",
       "      <td>2818 E Camino Acequia Drive</td>\n",
       "      <td>Phoenix</td>\n",
       "      <td>AZ</td>\n",
       "      <td>85016</td>\n",
       "      <td>33.522143</td>\n",
       "      <td>-112.018481</td>\n",
       "      <td>3.0</td>\n",
       "      <td>5</td>\n",
       "      <td>0</td>\n",
       "      <td>{'GoodForKids': 'False'}</td>\n",
       "      <td>[Golf,  Active Life]</td>\n",
       "      <td>None</td>\n",
       "    </tr>\n",
       "    <tr>\n",
       "      <td>1</td>\n",
       "      <td>QXAEGFB4oINsVuTFxEYKFQ</td>\n",
       "      <td>Emerald Chinese Restaurant</td>\n",
       "      <td>30 Eglinton Avenue W</td>\n",
       "      <td>Mississauga</td>\n",
       "      <td>ON</td>\n",
       "      <td>L5R 3E7</td>\n",
       "      <td>43.605499</td>\n",
       "      <td>-79.652289</td>\n",
       "      <td>2.5</td>\n",
       "      <td>128</td>\n",
       "      <td>1</td>\n",
       "      <td>{'RestaurantsReservations': 'True', 'GoodForMe...</td>\n",
       "      <td>[Specialty Food,  Restaurants,  Dim Sum,  Impo...</td>\n",
       "      <td>{'Monday': '9:0-0:0', 'Tuesday': '9:0-0:0', 'W...</td>\n",
       "    </tr>\n",
       "    <tr>\n",
       "      <td>2</td>\n",
       "      <td>gnKjwL_1w79qoiV3IC_xQQ</td>\n",
       "      <td>Musashi Japanese Restaurant</td>\n",
       "      <td>10110 Johnston Rd, Ste 15</td>\n",
       "      <td>Charlotte</td>\n",
       "      <td>NC</td>\n",
       "      <td>28210</td>\n",
       "      <td>35.092564</td>\n",
       "      <td>-80.859132</td>\n",
       "      <td>4.0</td>\n",
       "      <td>170</td>\n",
       "      <td>1</td>\n",
       "      <td>{'GoodForKids': 'True', 'NoiseLevel': 'u'avera...</td>\n",
       "      <td>[Sushi Bars,  Restaurants,  Japanese]</td>\n",
       "      <td>{'Monday': '17:30-21:30', 'Wednesday': '17:30-...</td>\n",
       "    </tr>\n",
       "    <tr>\n",
       "      <td>3</td>\n",
       "      <td>xvX2CttrVhyG2z1dFg_0xw</td>\n",
       "      <td>Farmers Insurance - Paul Lorenz</td>\n",
       "      <td>15655 W Roosevelt St, Ste 237</td>\n",
       "      <td>Goodyear</td>\n",
       "      <td>AZ</td>\n",
       "      <td>85338</td>\n",
       "      <td>33.455613</td>\n",
       "      <td>-112.395596</td>\n",
       "      <td>5.0</td>\n",
       "      <td>3</td>\n",
       "      <td>1</td>\n",
       "      <td>None</td>\n",
       "      <td>[Insurance,  Financial Services]</td>\n",
       "      <td>{'Monday': '8:0-17:0', 'Tuesday': '8:0-17:0', ...</td>\n",
       "    </tr>\n",
       "    <tr>\n",
       "      <td>4</td>\n",
       "      <td>HhyxOkGAM07SRYtlQ4wMFQ</td>\n",
       "      <td>Queen City Plumbing</td>\n",
       "      <td>4209 Stuart Andrew Blvd, Ste F</td>\n",
       "      <td>Charlotte</td>\n",
       "      <td>NC</td>\n",
       "      <td>28217</td>\n",
       "      <td>35.190012</td>\n",
       "      <td>-80.887223</td>\n",
       "      <td>4.0</td>\n",
       "      <td>4</td>\n",
       "      <td>1</td>\n",
       "      <td>{'BusinessAcceptsBitcoin': 'False', 'ByAppoint...</td>\n",
       "      <td>[Plumbing,  Shopping,  Local Services,  Home S...</td>\n",
       "      <td>{'Monday': '7:0-23:0', 'Tuesday': '7:0-23:0', ...</td>\n",
       "    </tr>\n",
       "    <tr>\n",
       "      <td>...</td>\n",
       "      <td>...</td>\n",
       "      <td>...</td>\n",
       "      <td>...</td>\n",
       "      <td>...</td>\n",
       "      <td>...</td>\n",
       "      <td>...</td>\n",
       "      <td>...</td>\n",
       "      <td>...</td>\n",
       "      <td>...</td>\n",
       "      <td>...</td>\n",
       "      <td>...</td>\n",
       "      <td>...</td>\n",
       "      <td>...</td>\n",
       "      <td>...</td>\n",
       "    </tr>\n",
       "    <tr>\n",
       "      <td>192604</td>\n",
       "      <td>nqb4kWcOwp8bFxzfvaDpZQ</td>\n",
       "      <td>Sanderson Plumbing</td>\n",
       "      <td>Sin direccion</td>\n",
       "      <td>North Las Vegas</td>\n",
       "      <td>NV</td>\n",
       "      <td>89032</td>\n",
       "      <td>36.213732</td>\n",
       "      <td>-115.177059</td>\n",
       "      <td>5.0</td>\n",
       "      <td>9</td>\n",
       "      <td>1</td>\n",
       "      <td>{'BusinessAcceptsCreditCards': 'True'}</td>\n",
       "      <td>[Water Purification Services,  Water Heater In...</td>\n",
       "      <td>{'Monday': '0:0-0:0', 'Tuesday': '0:0-0:0', 'W...</td>\n",
       "    </tr>\n",
       "    <tr>\n",
       "      <td>192605</td>\n",
       "      <td>vY2nLU5K20Pee-FdG0br1g</td>\n",
       "      <td>Chapters</td>\n",
       "      <td>17440 Yonge Street</td>\n",
       "      <td>Newmarket</td>\n",
       "      <td>ON</td>\n",
       "      <td>L3Y 6Y9</td>\n",
       "      <td>44.052658</td>\n",
       "      <td>-79.481850</td>\n",
       "      <td>4.5</td>\n",
       "      <td>3</td>\n",
       "      <td>1</td>\n",
       "      <td>{'RestaurantsPriceRange2': '2', 'BikeParking':...</td>\n",
       "      <td>[Books,  Mags,  Music &amp; Video,  Shopping]</td>\n",
       "      <td>None</td>\n",
       "    </tr>\n",
       "    <tr>\n",
       "      <td>192606</td>\n",
       "      <td>MiEyUDKTjeci5TMfxVZPpg</td>\n",
       "      <td>Phoenix Pavers</td>\n",
       "      <td>21230 N 22nd St</td>\n",
       "      <td>Phoenix</td>\n",
       "      <td>AZ</td>\n",
       "      <td>85024</td>\n",
       "      <td>33.679992</td>\n",
       "      <td>-112.035569</td>\n",
       "      <td>4.5</td>\n",
       "      <td>14</td>\n",
       "      <td>1</td>\n",
       "      <td>{'BusinessAcceptsCreditCards': 'True', 'ByAppo...</td>\n",
       "      <td>[Home Services,  Contractors,  Landscaping,  M...</td>\n",
       "      <td>{'Monday': '7:0-15:0', 'Tuesday': '7:0-15:0', ...</td>\n",
       "    </tr>\n",
       "    <tr>\n",
       "      <td>192607</td>\n",
       "      <td>zNMupayB2jEHVDOji8sxoQ</td>\n",
       "      <td>Beasley's Barber Shop</td>\n",
       "      <td>4406 E Main St</td>\n",
       "      <td>Mesa</td>\n",
       "      <td>AZ</td>\n",
       "      <td>85205</td>\n",
       "      <td>33.416137</td>\n",
       "      <td>-111.735743</td>\n",
       "      <td>4.5</td>\n",
       "      <td>15</td>\n",
       "      <td>1</td>\n",
       "      <td>{'RestaurantsPriceRange2': '1', 'BusinessAccep...</td>\n",
       "      <td>[Beauty &amp; Spas,  Barbers]</td>\n",
       "      <td>{'Tuesday': '8:30-17:30', 'Wednesday': '8:30-1...</td>\n",
       "    </tr>\n",
       "    <tr>\n",
       "      <td>192608</td>\n",
       "      <td>c1f_VAX1KIK8-JoVhjbYOw</td>\n",
       "      <td>Oriental Relax</td>\n",
       "      <td>3735 S Las Vegas Blvd</td>\n",
       "      <td>Las Vegas</td>\n",
       "      <td>NV</td>\n",
       "      <td>89109</td>\n",
       "      <td>36.107267</td>\n",
       "      <td>-115.171920</td>\n",
       "      <td>4.0</td>\n",
       "      <td>3</td>\n",
       "      <td>0</td>\n",
       "      <td>{'BikeParking': 'False', 'RestaurantsPriceRang...</td>\n",
       "      <td>[Massage,  Beauty &amp; Spas]</td>\n",
       "      <td>{'Monday': '10:0-0:0', 'Tuesday': '10:0-0:0', ...</td>\n",
       "    </tr>\n",
       "  </tbody>\n",
       "</table>\n",
       "<p>192609 rows × 14 columns</p>\n",
       "</div>"
      ],
      "text/plain": [
       "                    negocio_id                           nombre  \\\n",
       "0       1SWheh84yJXfytovILXOAQ       Arizona Biltmore Golf Club   \n",
       "1       QXAEGFB4oINsVuTFxEYKFQ       Emerald Chinese Restaurant   \n",
       "2       gnKjwL_1w79qoiV3IC_xQQ      Musashi Japanese Restaurant   \n",
       "3       xvX2CttrVhyG2z1dFg_0xw  Farmers Insurance - Paul Lorenz   \n",
       "4       HhyxOkGAM07SRYtlQ4wMFQ              Queen City Plumbing   \n",
       "...                        ...                              ...   \n",
       "192604  nqb4kWcOwp8bFxzfvaDpZQ               Sanderson Plumbing   \n",
       "192605  vY2nLU5K20Pee-FdG0br1g                         Chapters   \n",
       "192606  MiEyUDKTjeci5TMfxVZPpg                   Phoenix Pavers   \n",
       "192607  zNMupayB2jEHVDOji8sxoQ            Beasley's Barber Shop   \n",
       "192608  c1f_VAX1KIK8-JoVhjbYOw                   Oriental Relax   \n",
       "\n",
       "                             direccion           ciudad estado codigo_postal  \\\n",
       "0          2818 E Camino Acequia Drive          Phoenix     AZ         85016   \n",
       "1                 30 Eglinton Avenue W      Mississauga     ON       L5R 3E7   \n",
       "2            10110 Johnston Rd, Ste 15        Charlotte     NC         28210   \n",
       "3        15655 W Roosevelt St, Ste 237         Goodyear     AZ         85338   \n",
       "4       4209 Stuart Andrew Blvd, Ste F        Charlotte     NC         28217   \n",
       "...                                ...              ...    ...           ...   \n",
       "192604                   Sin direccion  North Las Vegas     NV         89032   \n",
       "192605              17440 Yonge Street        Newmarket     ON       L3Y 6Y9   \n",
       "192606                 21230 N 22nd St          Phoenix     AZ         85024   \n",
       "192607                  4406 E Main St             Mesa     AZ         85205   \n",
       "192608           3735 S Las Vegas Blvd        Las Vegas     NV         89109   \n",
       "\n",
       "          latitud    longitud  puntuacion  num_revisiones  abierto  \\\n",
       "0       33.522143 -112.018481         3.0               5        0   \n",
       "1       43.605499  -79.652289         2.5             128        1   \n",
       "2       35.092564  -80.859132         4.0             170        1   \n",
       "3       33.455613 -112.395596         5.0               3        1   \n",
       "4       35.190012  -80.887223         4.0               4        1   \n",
       "...           ...         ...         ...             ...      ...   \n",
       "192604  36.213732 -115.177059         5.0               9        1   \n",
       "192605  44.052658  -79.481850         4.5               3        1   \n",
       "192606  33.679992 -112.035569         4.5              14        1   \n",
       "192607  33.416137 -111.735743         4.5              15        1   \n",
       "192608  36.107267 -115.171920         4.0               3        0   \n",
       "\n",
       "                                                atributos  \\\n",
       "0                                {'GoodForKids': 'False'}   \n",
       "1       {'RestaurantsReservations': 'True', 'GoodForMe...   \n",
       "2       {'GoodForKids': 'True', 'NoiseLevel': 'u'avera...   \n",
       "3                                                    None   \n",
       "4       {'BusinessAcceptsBitcoin': 'False', 'ByAppoint...   \n",
       "...                                                   ...   \n",
       "192604             {'BusinessAcceptsCreditCards': 'True'}   \n",
       "192605  {'RestaurantsPriceRange2': '2', 'BikeParking':...   \n",
       "192606  {'BusinessAcceptsCreditCards': 'True', 'ByAppo...   \n",
       "192607  {'RestaurantsPriceRange2': '1', 'BusinessAccep...   \n",
       "192608  {'BikeParking': 'False', 'RestaurantsPriceRang...   \n",
       "\n",
       "                                               categorias  \\\n",
       "0                                    [Golf,  Active Life]   \n",
       "1       [Specialty Food,  Restaurants,  Dim Sum,  Impo...   \n",
       "2                   [Sushi Bars,  Restaurants,  Japanese]   \n",
       "3                        [Insurance,  Financial Services]   \n",
       "4       [Plumbing,  Shopping,  Local Services,  Home S...   \n",
       "...                                                   ...   \n",
       "192604  [Water Purification Services,  Water Heater In...   \n",
       "192605          [Books,  Mags,  Music & Video,  Shopping]   \n",
       "192606  [Home Services,  Contractors,  Landscaping,  M...   \n",
       "192607                          [Beauty & Spas,  Barbers]   \n",
       "192608                          [Massage,  Beauty & Spas]   \n",
       "\n",
       "                                                    horas  \n",
       "0                                                    None  \n",
       "1       {'Monday': '9:0-0:0', 'Tuesday': '9:0-0:0', 'W...  \n",
       "2       {'Monday': '17:30-21:30', 'Wednesday': '17:30-...  \n",
       "3       {'Monday': '8:0-17:0', 'Tuesday': '8:0-17:0', ...  \n",
       "4       {'Monday': '7:0-23:0', 'Tuesday': '7:0-23:0', ...  \n",
       "...                                                   ...  \n",
       "192604  {'Monday': '0:0-0:0', 'Tuesday': '0:0-0:0', 'W...  \n",
       "192605                                               None  \n",
       "192606  {'Monday': '7:0-15:0', 'Tuesday': '7:0-15:0', ...  \n",
       "192607  {'Tuesday': '8:30-17:30', 'Wednesday': '8:30-1...  \n",
       "192608  {'Monday': '10:0-0:0', 'Tuesday': '10:0-0:0', ...  \n",
       "\n",
       "[192609 rows x 14 columns]"
      ]
     },
     "execution_count": 2,
     "metadata": {},
     "output_type": "execute_result"
    }
   ],
   "source": [
    "url = \"../Dataset/datos_negocios_limpios.csv\"\n",
    "df = pd.read_csv(url)\n",
    "\n",
    "def funcion1(a):\n",
    "    if(a!=\"Sin atributos\"):\n",
    "        return eval(a)\n",
    "\n",
    "def funcion2(a):\n",
    "    if(a!=\"Sin horas\"):\n",
    "        return eval(a)\n",
    "    \n",
    "df[\"categorias\"]=df[\"categorias\"].apply(lambda s: eval(s))\n",
    "df[\"atributos\"]=df[\"atributos\"].apply(lambda s: funcion1(s))\n",
    "df[\"horas\"]=df[\"horas\"].apply(lambda s: funcion2(s) )\n",
    "df"
   ]
  },
  {
   "cell_type": "markdown",
   "metadata": {},
   "source": [
    "En un primer lugar, como estamos tratando un csv guardado por nosotros en la parte de preprocesado (en el notebook de preprocesado_negocios), hemos comprobado que en el csv los atributos con listas y diccionarios se guardan como string, es decir, \"[ \"\" ] \" (en el caso de las listas y \" { \"\" } \" (en el caso de los diccionarios.\n",
    "\n",
    "Por ello, para facilitar la utilización de dichos campos hemos decido pasar los valores de dichos atributos a código python. "
   ]
  },
  {
   "cell_type": "code",
   "execution_count": 3,
   "metadata": {
    "scrolled": true
   },
   "outputs": [
    {
     "name": "stdout",
     "output_type": "stream",
     "text": [
      "['negocio_id', 'nombre', 'direccion', 'ciudad', 'estado', 'codigo_postal', 'latitud', 'longitud', 'puntuacion', 'num_revisiones', 'abierto', 'atributos', 'categorias', 'horas']\n"
     ]
    }
   ],
   "source": [
    "print(list(df.columns))"
   ]
  },
  {
   "cell_type": "markdown",
   "metadata": {},
   "source": [
    "Nos encontramos en un dataset de negocios en el que se habla de donde se situan, que puntuacion tienen y horario de apertura y características del negocio. Para entender correctamente qué significa cada atributo, vamos a explicarlos uno a uno y a exponer algunas suposición que nos hacemos apriori:\n",
    "\n",
    "   - **negocio_id**: Una cadena de caracteres alfanumérica que identifica unequivocamente a un negocio.\n",
    "\n",
    "   - **nombre**: El nombre del negocio. Podemos suponer que puede incluir algunas de las categorias del negocio, dando una buena pista a la hora de predecir las categorias de un negocio.\n",
    "\n",
    "   - **direccion, ciudad, estado, codigo postal, latitud y longitud**: Indican la posición geográfica del negocio.\n",
    "\n",
    "   - **puntucacion**: Indica que tan buenos son los negcios según los usuarios que los han puntuado.\n",
    "\n",
    "   - **num_revisiones**: Número de veces que usuarios han puntuado este negocio.\n",
    "\n",
    "   - **abierto**: Indica si el negocio sigue ofreciendo servicios o ha cerrado. Se puede imaginar que un negocio con muchas revisiones es difícil que cierre porque tiene muchos clientes.\n",
    "   \n",
    "   - **atributos**: String que contiene un diccionario que incluye diferentes caracteristicas que puede cumplir el negocio, como ser bueno para niños o el nivel de ruido que tiene.\n",
    "   \n",
    "   - **categorias**: String que contiene una lista de las categorías que cumple el negocio.\n",
    "   \n",
    "   - **horas**: String que contiene un diccionario que indica las diferentes horas a las que abre el negocio cada día.\n"
   ]
  },
  {
   "cell_type": "markdown",
   "metadata": {},
   "source": [
    "### Análisis descriptivo de los datos"
   ]
  },
  {
   "cell_type": "code",
   "execution_count": 4,
   "metadata": {
    "scrolled": true
   },
   "outputs": [
    {
     "data": {
      "text/html": [
       "<div>\n",
       "<style scoped>\n",
       "    .dataframe tbody tr th:only-of-type {\n",
       "        vertical-align: middle;\n",
       "    }\n",
       "\n",
       "    .dataframe tbody tr th {\n",
       "        vertical-align: top;\n",
       "    }\n",
       "\n",
       "    .dataframe thead th {\n",
       "        text-align: right;\n",
       "    }\n",
       "</style>\n",
       "<table border=\"1\" class=\"dataframe\">\n",
       "  <thead>\n",
       "    <tr style=\"text-align: right;\">\n",
       "      <th></th>\n",
       "      <th>latitud</th>\n",
       "      <th>longitud</th>\n",
       "      <th>puntuacion</th>\n",
       "      <th>num_revisiones</th>\n",
       "      <th>abierto</th>\n",
       "    </tr>\n",
       "  </thead>\n",
       "  <tbody>\n",
       "    <tr>\n",
       "      <td>count</td>\n",
       "      <td>192609.000000</td>\n",
       "      <td>192609.000000</td>\n",
       "      <td>192609.000000</td>\n",
       "      <td>192609.000000</td>\n",
       "      <td>192609.000000</td>\n",
       "    </tr>\n",
       "    <tr>\n",
       "      <td>mean</td>\n",
       "      <td>38.541803</td>\n",
       "      <td>-97.594785</td>\n",
       "      <td>3.585627</td>\n",
       "      <td>33.538962</td>\n",
       "      <td>0.823040</td>\n",
       "    </tr>\n",
       "    <tr>\n",
       "      <td>std</td>\n",
       "      <td>4.941964</td>\n",
       "      <td>16.697725</td>\n",
       "      <td>1.018458</td>\n",
       "      <td>110.135224</td>\n",
       "      <td>0.381635</td>\n",
       "    </tr>\n",
       "    <tr>\n",
       "      <td>min</td>\n",
       "      <td>33.204642</td>\n",
       "      <td>-115.493471</td>\n",
       "      <td>1.000000</td>\n",
       "      <td>3.000000</td>\n",
       "      <td>0.000000</td>\n",
       "    </tr>\n",
       "    <tr>\n",
       "      <td>25%</td>\n",
       "      <td>33.637408</td>\n",
       "      <td>-112.274677</td>\n",
       "      <td>3.000000</td>\n",
       "      <td>4.000000</td>\n",
       "      <td>1.000000</td>\n",
       "    </tr>\n",
       "    <tr>\n",
       "      <td>50%</td>\n",
       "      <td>36.144815</td>\n",
       "      <td>-111.759323</td>\n",
       "      <td>3.500000</td>\n",
       "      <td>9.000000</td>\n",
       "      <td>1.000000</td>\n",
       "    </tr>\n",
       "    <tr>\n",
       "      <td>75%</td>\n",
       "      <td>43.602989</td>\n",
       "      <td>-79.983614</td>\n",
       "      <td>4.500000</td>\n",
       "      <td>25.000000</td>\n",
       "      <td>1.000000</td>\n",
       "    </tr>\n",
       "    <tr>\n",
       "      <td>max</td>\n",
       "      <td>51.299943</td>\n",
       "      <td>-72.911982</td>\n",
       "      <td>5.000000</td>\n",
       "      <td>8348.000000</td>\n",
       "      <td>1.000000</td>\n",
       "    </tr>\n",
       "  </tbody>\n",
       "</table>\n",
       "</div>"
      ],
      "text/plain": [
       "             latitud       longitud     puntuacion  num_revisiones  \\\n",
       "count  192609.000000  192609.000000  192609.000000   192609.000000   \n",
       "mean       38.541803     -97.594785       3.585627       33.538962   \n",
       "std         4.941964      16.697725       1.018458      110.135224   \n",
       "min        33.204642    -115.493471       1.000000        3.000000   \n",
       "25%        33.637408    -112.274677       3.000000        4.000000   \n",
       "50%        36.144815    -111.759323       3.500000        9.000000   \n",
       "75%        43.602989     -79.983614       4.500000       25.000000   \n",
       "max        51.299943     -72.911982       5.000000     8348.000000   \n",
       "\n",
       "             abierto  \n",
       "count  192609.000000  \n",
       "mean        0.823040  \n",
       "std         0.381635  \n",
       "min         0.000000  \n",
       "25%         1.000000  \n",
       "50%         1.000000  \n",
       "75%         1.000000  \n",
       "max         1.000000  "
      ]
     },
     "execution_count": 4,
     "metadata": {},
     "output_type": "execute_result"
    }
   ],
   "source": [
    "df.describe()"
   ]
  },
  {
   "cell_type": "markdown",
   "metadata": {},
   "source": [
    "Observando la tabla descriptiva de los datos, podemos obtener la siguiente información:\n",
    "   - **Puntuación**: Podemos observar que la media de la puntuación de los negocios esta en torno al 3.6.\n",
    "\n",
    "   - **Num_revisiones**: Podemos observar que el valor del número de revisiones máximo es muy elevado en comparación con la media de revisiones, lo que quiere decir que existen negocios muy populares entre la gente. \n",
    "   - **Abierto**: \n",
    "        - El porcentaje de negocios abiertos es del **82,3%**\n",
    "        - El porcentaje de negocios cerrados es del **17,7%**"
   ]
  },
  {
   "cell_type": "code",
   "execution_count": 5,
   "metadata": {},
   "outputs": [],
   "source": [
    "import matplotlib.pyplot as plt\n",
    "import seaborn as sns"
   ]
  },
  {
   "cell_type": "code",
   "execution_count": 6,
   "metadata": {},
   "outputs": [
    {
     "data": {
      "text/plain": [
       "<matplotlib.axes._subplots.AxesSubplot at 0x289b1d97470>"
      ]
     },
     "execution_count": 6,
     "metadata": {},
     "output_type": "execute_result"
    },
    {
     "data": {
      "image/png": "[encoded data removed]",
      "text/plain": [
       "<Figure size 432x288 with 2 Axes>"
      ]
     },
     "metadata": {
      "needs_background": "light"
     },
     "output_type": "display_data"
    }
   ],
   "source": [
    "sns.heatmap(df.corr(), annot = True)"
   ]
  },
  {
   "cell_type": "markdown",
   "metadata": {},
   "source": [
    "Se ha realizado un análisis de correlación con el objetivo de detectar si en el conjunto de datos de negocios existen datos que esten correlados.\n",
    "\n",
    "Pero como se puede observar tanto la puntuación, el número de revisiones y si está abierto o no no tienen ninguna correlación con ninguún atributos, aunque pudiera parecer de primeras sin haber hecho dicho análisis de correlación que la puntuación pudiera tener relación con el número de revisiones.\n",
    "\n",
    "Lo que si que parece estar correlado son la logitud y la latitud, lo que tiene sentido puesto que ambos atributos juntos determinan la posición de los negocios sin llegar a necesitar una dirección."
   ]
  },
  {
   "cell_type": "markdown",
   "metadata": {},
   "source": [
    "## Distribución de la puntuación"
   ]
  },
  {
   "cell_type": "code",
   "execution_count": 7,
   "metadata": {},
   "outputs": [
    {
     "data": {
      "image/png": "[encoded data removed]",
      "text/plain": [
       "<Figure size 648x360 with 1 Axes>"
      ]
     },
     "metadata": {
      "needs_background": "light"
     },
     "output_type": "display_data"
    }
   ],
   "source": [
    "x = df[\"puntuacion\"].value_counts()\n",
    "x = x.sort_index()\n",
    "plt.figure(figsize=(9,5))\n",
    "ax=sns.barplot(x.index, x.values)\n",
    "plt.title (\"Distribucion de puntuaciones\")\n",
    "plt.ylabel(\"Cantidad negocios\")\n",
    "plt.xlabel(\"Puntuacion\")\n",
    "plt.show()\n"
   ]
  },
  {
   "cell_type": "markdown",
   "metadata": {},
   "source": [
    "Lo que se trata de representar con la gráfica anterior es la distribució de la puntaciones del conjunto de negocios (se incluye tanto cerrados como abiertos). En ella se puede observar que hay un gran número de negocios que tienen puntuaciones medias entre 3.5 y 4. Pero no se ve que dicha distribución siga una normal. "
   ]
  },
  {
   "cell_type": "markdown",
   "metadata": {},
   "source": [
    "## Distribuciones de negocios abiertos y cerrados"
   ]
  },
  {
   "cell_type": "code",
   "execution_count": 8,
   "metadata": {
    "scrolled": false
   },
   "outputs": [],
   "source": [
    "url = \"../Dataset/datos_negocios_limpios_categoriasExtendidas.csv\"\n",
    "df = pd.read_csv(url)\n",
    "grouped = df.groupby('abierto')\n",
    "abiertos=grouped.get_group(1)\n",
    "cerrados=grouped.get_group(0)"
   ]
  },
  {
   "cell_type": "code",
   "execution_count": 9,
   "metadata": {},
   "outputs": [
    {
     "data": {
      "image/png": "[encoded data removed]",
      "text/plain": [
       "<Figure size 648x360 with 1 Axes>"
      ]
     },
     "metadata": {
      "needs_background": "light"
     },
     "output_type": "display_data"
    },
    {
     "data": {
      "image/png": "[encoded data removed]",
      "text/plain": [
       "<Figure size 648x360 with 1 Axes>"
      ]
     },
     "metadata": {
      "needs_background": "light"
     },
     "output_type": "display_data"
    },
    {
     "data": {
      "image/png": "[encoded data removed]",
      "text/plain": [
       "<Figure size 648x360 with 1 Axes>"
      ]
     },
     "metadata": {
      "needs_background": "light"
     },
     "output_type": "display_data"
    }
   ],
   "source": [
    "plt.figure(figsize=(9,5))\n",
    "sns.countplot (x=\"abierto\", data=df)\n",
    "x = abiertos[\"puntuacion\"].value_counts()\n",
    "y = cerrados[\"puntuacion\"].value_counts()\n",
    "x = x.sort_index()\n",
    "y = y.sort_index()\n",
    "plt.figure(figsize=(9,5))\n",
    "ax=sns.barplot(x.index, x.values)\n",
    "plt.title (\"Distribucion de puntuaciones\")\n",
    "plt.ylabel(\"Cantidad negocios abiertos\")\n",
    "plt.xlabel(\"Puntuacion\")\n",
    "plt.show()\n",
    "plt.figure(figsize=(9,5))\n",
    "ay=sns.barplot(y.index, y.values)\n",
    "plt.title (\"Distribucion de puntuaciones\")\n",
    "plt.ylabel(\"Cantidad negocios cerrados\")\n",
    "plt.xlabel(\"Puntuacion\")\n",
    "plt.show()"
   ]
  },
  {
   "cell_type": "markdown",
   "metadata": {},
   "source": [
    "Con el objetivo de ver como se distribuyen los negocios se han realizado las gráficas anteriores donde se puede comentar lo siguiente:\n",
    "\n",
    "- **Negocios abiertos**: Se puede observar que el número de negocios abiertos es mucho mayor que el de cerrados, consideración que se deberá tener en cuenta si se quiere realizar una predicción de negocios abiertos y cerrados, puesto que las clases estaría desbalanceadas.\n",
    "- **Puntuación negocios abiertos**: La distribución que siguen los negocios abiertos es muy similar a la gráfica representada con anterioridad para el conjunto total de negocios en el que se puede ver que la puntuaciones generales se centrar en torno a 3.5 y 4.\n",
    "- **Puntuación negocios cerrados**: La distribución que siguen los negocios cerrados se parece a una distribución normal, en la que se puede observar que la mayoría de negocios cerrados tienen una puntuación media durante todo el tiempo que han estado abiertos de 3.5, lo que puede llegar a indicar que durante los primeros años de apertura fue un negocio bastante bueno pero que con el paso de los años ha ido empeorando ya sea por cambio de personal, dueño...\n"
   ]
  },
  {
   "cell_type": "markdown",
   "metadata": {},
   "source": [
    "### Analisis de categorias\n"
   ]
  },
  {
   "cell_type": "markdown",
   "metadata": {},
   "source": [
    "Una vez explorado el dataframe generado por el preprocesado del fichero original hemos visto que no nos ha aportado mucha información por lo que hemos decidido procesar de nuevo el fichero y esta vez hemos generado un fichero con un atributo por categoría. Este proceso se ha realizado en el notebook llamado procesado_categorias.\n",
    "\n",
    "En este caso los atributos son los mismos que en el fichero utilizado en las explicaciones anteriores. Ahora vamos a comprobar si hay alguna diferencia entre los negocios que han cerrado con los que siguen abiertos para lo que vamos a comprobar que categorías son más frecuentes."
   ]
  },
  {
   "cell_type": "code",
   "execution_count": 10,
   "metadata": {},
   "outputs": [
    {
     "data": {
      "text/html": [
       "<div>\n",
       "<style scoped>\n",
       "    .dataframe tbody tr th:only-of-type {\n",
       "        vertical-align: middle;\n",
       "    }\n",
       "\n",
       "    .dataframe tbody tr th {\n",
       "        vertical-align: top;\n",
       "    }\n",
       "\n",
       "    .dataframe thead th {\n",
       "        text-align: right;\n",
       "    }\n",
       "</style>\n",
       "<table border=\"1\" class=\"dataframe\">\n",
       "  <thead>\n",
       "    <tr style=\"text-align: right;\">\n",
       "      <th></th>\n",
       "      <th>Restaurants</th>\n",
       "      <th>Shopping</th>\n",
       "      <th>Food</th>\n",
       "      <th>Home Services</th>\n",
       "      <th>Beauty &amp; Spas</th>\n",
       "      <th>Health &amp; Medical</th>\n",
       "      <th>Local Services</th>\n",
       "      <th>Automotive</th>\n",
       "      <th>Nightlife</th>\n",
       "      <th>Bars</th>\n",
       "      <th>...</th>\n",
       "      <th>Tonkatsu</th>\n",
       "      <th>Street Art</th>\n",
       "      <th>Eastern European</th>\n",
       "      <th>Oaxacan</th>\n",
       "      <th>Medical Foot Care</th>\n",
       "      <th>Udon</th>\n",
       "      <th>Drive-Thru Bars</th>\n",
       "      <th>Market Stalls</th>\n",
       "      <th>Hainan</th>\n",
       "      <th>Beach Volleyball</th>\n",
       "    </tr>\n",
       "  </thead>\n",
       "  <tbody>\n",
       "    <tr>\n",
       "      <td>mean</td>\n",
       "      <td>0.308246</td>\n",
       "      <td>0.165506</td>\n",
       "      <td>0.155699</td>\n",
       "      <td>0.10243</td>\n",
       "      <td>0.100566</td>\n",
       "      <td>0.08915</td>\n",
       "      <td>0.072333</td>\n",
       "      <td>0.068548</td>\n",
       "      <td>0.067987</td>\n",
       "      <td>0.058881</td>\n",
       "      <td>...</td>\n",
       "      <td>0.000005</td>\n",
       "      <td>0.000005</td>\n",
       "      <td>0.000005</td>\n",
       "      <td>0.000005</td>\n",
       "      <td>0.000005</td>\n",
       "      <td>0.000005</td>\n",
       "      <td>0.000005</td>\n",
       "      <td>0.000005</td>\n",
       "      <td>0.000005</td>\n",
       "      <td>0.000005</td>\n",
       "    </tr>\n",
       "  </tbody>\n",
       "</table>\n",
       "<p>1 rows × 1301 columns</p>\n",
       "</div>"
      ],
      "text/plain": [
       "      Restaurants  Shopping      Food  Home Services  Beauty & Spas  \\\n",
       "mean     0.308246  0.165506  0.155699        0.10243       0.100566   \n",
       "\n",
       "      Health & Medical  Local Services  Automotive  Nightlife      Bars  ...  \\\n",
       "mean           0.08915        0.072333    0.068548   0.067987  0.058881  ...   \n",
       "\n",
       "      Tonkatsu  Street Art  Eastern European   Oaxacan  Medical Foot Care  \\\n",
       "mean  0.000005    0.000005          0.000005  0.000005           0.000005   \n",
       "\n",
       "          Udon  Drive-Thru Bars  Market Stalls    Hainan  Beach Volleyball  \n",
       "mean  0.000005         0.000005       0.000005  0.000005          0.000005  \n",
       "\n",
       "[1 rows x 1301 columns]"
      ]
     },
     "execution_count": 10,
     "metadata": {},
     "output_type": "execute_result"
    }
   ],
   "source": [
    "a=df.describe()\n",
    "a=a.drop([\"latitud\",\"longitud\",\"puntuacion\",\"num_revisiones\",\"abierto\"], axis=1)\n",
    "a=a.drop([\"max\",\"75%\",\"50%\",\"25%\",\"min\",\"std\",\"count\"], axis=0)\n",
    "a=a.sort_values(by=\"mean\",axis=1, ascending=False)\n",
    "a"
   ]
  },
  {
   "cell_type": "markdown",
   "metadata": {},
   "source": [
    "En la representación anterior se puede ver que tipo de negocios osn los que más predominan. Donde se puede observar que el principal tipo de negocio que podemos encontrar dentro del dataset (teniendo en cuenta todos los negocios tanto abiertos como cerrados) son los restaurantes, tiendas y comida.\n",
    "\n",
    "Pero con estos resultados no podemos tener certeza de que tipo de negocio sería más recomendable abrir puesto que tenemos en cuenta que negocios estan cerrados y que negocios están abiertos por lo que puede que haya muchos negocios cerrado de una de las categorías. De modo que vamos a observar a continuación que es lo que ocurre para negocios abiertos y cerrados (teniendo en cuenta las puntuaciones ya que consideramos que para considerar abrir un determinado negocio la puntuación media de dicho negocio tiene que ser superior a 3.5."
   ]
  },
  {
   "cell_type": "markdown",
   "metadata": {},
   "source": [
    "## Categorías para negocios abiertos y cerrados"
   ]
  },
  {
   "cell_type": "code",
   "execution_count": 11,
   "metadata": {},
   "outputs": [],
   "source": [
    "b=pd.DataFrame({'puntuacion' : []})\n",
    "b[\"puntuacion\"]=df[\"puntuacion\"]\n",
    "b[\"num_revisiones\"]=df[\"num_revisiones\"]\n",
    "b[\"abierto\"]=df[\"abierto\"]"
   ]
  },
  {
   "cell_type": "code",
   "execution_count": 12,
   "metadata": {},
   "outputs": [],
   "source": [
    "buenos = df.loc[df['puntuacion'] >= 3.5, df.columns]\n",
    "malos = df.loc[df['puntuacion'] <= 2.5, df.columns]\n",
    "buenos = buenos.drop(\"puntuacion\",axis=1)\n",
    "malos = malos.drop(\"puntuacion\",axis=1)"
   ]
  },
  {
   "cell_type": "code",
   "execution_count": 13,
   "metadata": {},
   "outputs": [
    {
     "data": {
      "text/html": [
       "<div>\n",
       "<style scoped>\n",
       "    .dataframe tbody tr th:only-of-type {\n",
       "        vertical-align: middle;\n",
       "    }\n",
       "\n",
       "    .dataframe tbody tr th {\n",
       "        vertical-align: top;\n",
       "    }\n",
       "\n",
       "    .dataframe thead th {\n",
       "        text-align: right;\n",
       "    }\n",
       "</style>\n",
       "<table border=\"1\" class=\"dataframe\">\n",
       "  <thead>\n",
       "    <tr style=\"text-align: right;\">\n",
       "      <th></th>\n",
       "      <th>Restaurants</th>\n",
       "      <th>Food</th>\n",
       "      <th>Shopping</th>\n",
       "      <th>Beauty &amp; Spas</th>\n",
       "      <th>Home Services</th>\n",
       "      <th>Health &amp; Medical</th>\n",
       "      <th>Local Services</th>\n",
       "      <th>Nightlife</th>\n",
       "      <th>Automotive</th>\n",
       "      <th>Active Life</th>\n",
       "      <th>...</th>\n",
       "      <th>Tonkatsu</th>\n",
       "      <th>Tempura</th>\n",
       "      <th>General Festivals</th>\n",
       "      <th>Beer Hall</th>\n",
       "      <th>Linens</th>\n",
       "      <th>Toxicologists</th>\n",
       "      <th>Beach Volleyball</th>\n",
       "      <th>Halfway Houses</th>\n",
       "      <th>Minho</th>\n",
       "      <th>Jails &amp; Prisons</th>\n",
       "    </tr>\n",
       "  </thead>\n",
       "  <tbody>\n",
       "    <tr>\n",
       "      <td>mean</td>\n",
       "      <td>0.296188</td>\n",
       "      <td>0.164356</td>\n",
       "      <td>0.163668</td>\n",
       "      <td>0.113618</td>\n",
       "      <td>0.096463</td>\n",
       "      <td>0.093815</td>\n",
       "      <td>0.074217</td>\n",
       "      <td>0.069339</td>\n",
       "      <td>0.064549</td>\n",
       "      <td>0.060959</td>\n",
       "      <td>...</td>\n",
       "      <td>0.0</td>\n",
       "      <td>0.0</td>\n",
       "      <td>0.0</td>\n",
       "      <td>0.0</td>\n",
       "      <td>0.0</td>\n",
       "      <td>0.0</td>\n",
       "      <td>0.0</td>\n",
       "      <td>0.0</td>\n",
       "      <td>0.0</td>\n",
       "      <td>0.0</td>\n",
       "    </tr>\n",
       "  </tbody>\n",
       "</table>\n",
       "<p>1 rows × 1301 columns</p>\n",
       "</div>"
      ],
      "text/plain": [
       "      Restaurants      Food  Shopping  Beauty & Spas  Home Services  \\\n",
       "mean     0.296188  0.164356  0.163668       0.113618       0.096463   \n",
       "\n",
       "      Health & Medical  Local Services  Nightlife  Automotive  Active Life  \\\n",
       "mean          0.093815        0.074217   0.069339    0.064549     0.060959   \n",
       "\n",
       "      ...  Tonkatsu  Tempura  General Festivals  Beer Hall  Linens  \\\n",
       "mean  ...       0.0      0.0                0.0        0.0     0.0   \n",
       "\n",
       "      Toxicologists  Beach Volleyball  Halfway Houses  Minho  Jails & Prisons  \n",
       "mean            0.0               0.0             0.0    0.0              0.0  \n",
       "\n",
       "[1 rows x 1301 columns]"
      ]
     },
     "execution_count": 13,
     "metadata": {},
     "output_type": "execute_result"
    }
   ],
   "source": [
    "a=buenos.describe()\n",
    "a=a.drop([\"latitud\",\"longitud\",\"num_revisiones\",\"abierto\"], axis=1)\n",
    "a=a.drop([\"max\",\"75%\",\"50%\",\"25%\",\"min\",\"std\",\"count\"], axis=0)\n",
    "a.sort_values(by=\"mean\",axis=1, ascending=False)"
   ]
  },
  {
   "cell_type": "markdown",
   "metadata": {},
   "source": [
    "Como podemos observar el tipo de negocios que sigue predominando entre los negocios abiertos y que tienen una puntuación media superior a 3.5 son los negocios con categoría de restaurantes, comidad y tiendas. Pero con tan solo este conjunto de datos no podemos llegar a determinar aún cual que tipo de negocios sería más conveniente abrir puesto que puede que las puntuaciones que tengan los negocios ahora mismo no sea muy elevada sino que dicha puntuación media venga de los primeros años del negocio.\n",
    "\n",
    "Lo que se hará sera en próximos análisis es emplear aquellas ciudades que tengan mayor cantidad de negocios y determinaremos con la puntuación media que tipo de negocios sería más reocmendable abrir en las tres ciudades con mayor número de negocios. Para ello tendremos que determinar cuales son estas ciudades."
   ]
  },
  {
   "cell_type": "code",
   "execution_count": 14,
   "metadata": {
    "scrolled": true
   },
   "outputs": [
    {
     "data": {
      "text/html": [
       "<div>\n",
       "<style scoped>\n",
       "    .dataframe tbody tr th:only-of-type {\n",
       "        vertical-align: middle;\n",
       "    }\n",
       "\n",
       "    .dataframe tbody tr th {\n",
       "        vertical-align: top;\n",
       "    }\n",
       "\n",
       "    .dataframe thead th {\n",
       "        text-align: right;\n",
       "    }\n",
       "</style>\n",
       "<table border=\"1\" class=\"dataframe\">\n",
       "  <thead>\n",
       "    <tr style=\"text-align: right;\">\n",
       "      <th></th>\n",
       "      <th>Restaurants</th>\n",
       "      <th>Shopping</th>\n",
       "      <th>Home Services</th>\n",
       "      <th>Food</th>\n",
       "      <th>Health &amp; Medical</th>\n",
       "      <th>Fast Food</th>\n",
       "      <th>Automotive</th>\n",
       "      <th>Local Services</th>\n",
       "      <th>Beauty &amp; Spas</th>\n",
       "      <th>Real Estate</th>\n",
       "      <th>...</th>\n",
       "      <th>Fingerprinting</th>\n",
       "      <th>Sandblasting</th>\n",
       "      <th>Bike Parking</th>\n",
       "      <th>Outdoor Movies</th>\n",
       "      <th>Horse Racing</th>\n",
       "      <th>Hot Air Balloons</th>\n",
       "      <th>Scottish</th>\n",
       "      <th>Pet Transportation</th>\n",
       "      <th>Float Spa</th>\n",
       "      <th>Parenting Classes</th>\n",
       "    </tr>\n",
       "  </thead>\n",
       "  <tbody>\n",
       "    <tr>\n",
       "      <td>mean</td>\n",
       "      <td>0.279319</td>\n",
       "      <td>0.170044</td>\n",
       "      <td>0.144869</td>\n",
       "      <td>0.122261</td>\n",
       "      <td>0.090281</td>\n",
       "      <td>0.08729</td>\n",
       "      <td>0.086468</td>\n",
       "      <td>0.078541</td>\n",
       "      <td>0.073905</td>\n",
       "      <td>0.061018</td>\n",
       "      <td>...</td>\n",
       "      <td>0.0</td>\n",
       "      <td>0.0</td>\n",
       "      <td>0.0</td>\n",
       "      <td>0.0</td>\n",
       "      <td>0.0</td>\n",
       "      <td>0.0</td>\n",
       "      <td>0.0</td>\n",
       "      <td>0.0</td>\n",
       "      <td>0.0</td>\n",
       "      <td>0.0</td>\n",
       "    </tr>\n",
       "  </tbody>\n",
       "</table>\n",
       "<p>1 rows × 1301 columns</p>\n",
       "</div>"
      ],
      "text/plain": [
       "      Restaurants  Shopping  Home Services      Food  Health & Medical  \\\n",
       "mean     0.279319  0.170044       0.144869  0.122261          0.090281   \n",
       "\n",
       "      Fast Food  Automotive  Local Services  Beauty & Spas  Real Estate  ...  \\\n",
       "mean    0.08729    0.086468        0.078541       0.073905     0.061018  ...   \n",
       "\n",
       "      Fingerprinting  Sandblasting  Bike Parking  Outdoor Movies  \\\n",
       "mean             0.0           0.0           0.0             0.0   \n",
       "\n",
       "      Horse Racing  Hot Air Balloons  Scottish  Pet Transportation  Float Spa  \\\n",
       "mean           0.0               0.0       0.0                 0.0        0.0   \n",
       "\n",
       "      Parenting Classes  \n",
       "mean                0.0  \n",
       "\n",
       "[1 rows x 1301 columns]"
      ]
     },
     "execution_count": 14,
     "metadata": {},
     "output_type": "execute_result"
    }
   ],
   "source": [
    "a=malos.describe()\n",
    "a=a.drop([\"latitud\",\"longitud\",\"num_revisiones\",\"abierto\"], axis=1)\n",
    "a=a.drop([\"max\",\"75%\",\"50%\",\"25%\",\"min\",\"std\",\"count\"], axis=0)\n",
    "a.sort_values(by=\"mean\",axis=1, ascending=False)"
   ]
  },
  {
   "cell_type": "markdown",
   "metadata": {},
   "source": [
    "Otro elemento interesante que nos ha resultado interesante observar es si podríamos sacar cuál de los negocios es más propenso a cerrar a partir de este conjunto de datos. Pero podemos observar que de este dataset no se puede llegar a una conclusión muy certera puesto que el tipo de negocios que suelen cerrar coincide con el tipo de negocios que predominan en el conjunto, lo que llega a indicar que al haber un mayor número de negocios de ese tipo la cantidad de negocios que cierran de ese tipo también es mayor."
   ]
  },
  {
   "cell_type": "markdown",
   "metadata": {},
   "source": [
    "## Distribución de negocios por estado"
   ]
  },
  {
   "cell_type": "markdown",
   "metadata": {},
   "source": [
    "Ahora vamos a comprobar en que estados se encuentra el mayor número de negocios. Con el objetivo de determinar donde se encuentran las ciudades con mayor número de negocios"
   ]
  },
  {
   "cell_type": "code",
   "execution_count": 15,
   "metadata": {},
   "outputs": [
    {
     "data": {
      "image/png": "[encoded data removed]",
      "text/plain": [
       "<Figure size 1152x288 with 1 Axes>"
      ]
     },
     "metadata": {
      "needs_background": "light"
     },
     "output_type": "display_data"
    }
   ],
   "source": [
    "x=df[\"estado\"].value_counts()\n",
    "x=x.sort_values(ascending=False)\n",
    "x=x.iloc[0:20]\n",
    "plt.figure(figsize=(16,4))\n",
    "ax=sns.barplot(x.index, x.values)\n",
    "plt.title(\"Que estado tiene mas negocios?\")\n",
    "l, label = plt.xticks()\n",
    "plt.setp(label, rotation=45)\n",
    "plt.ylabel(\"Numero de negocios\")\n",
    "plt.xlabel(\"Estado\")\n",
    "plt.show()\n"
   ]
  },
  {
   "cell_type": "markdown",
   "metadata": {},
   "source": [
    "Aqui podemos comprobar cuales son los estados que más negocios tienen, en este caso los que destacan son Arizona y Nevada en EEUU y Ontario en Canadá. Por lo que pensamos que las ciudades que más negocios tendrán pertenecerán a estos estados, para comprobarlo se mirará la distribución de los negocios por ciudad."
   ]
  },
  {
   "cell_type": "markdown",
   "metadata": {},
   "source": [
    "## Distribución de negocios por ciudades"
   ]
  },
  {
   "cell_type": "code",
   "execution_count": 16,
   "metadata": {},
   "outputs": [
    {
     "data": {
      "image/png": "[encoded data removed]",
      "text/plain": [
       "<Figure size 1152x288 with 1 Axes>"
      ]
     },
     "metadata": {
      "needs_background": "light"
     },
     "output_type": "display_data"
    }
   ],
   "source": [
    "y=df[\"ciudad\"].value_counts()\n",
    "y=y.sort_values(ascending=False)\n",
    "y=y.iloc[0:6]\n",
    "plt.figure(figsize=(16,4))\n",
    "ay=sns.barplot(y.index, y.values)\n",
    "plt.title(\"Que ciudad tiene mas negocios?\")\n",
    "l, label = plt.xticks()\n",
    "plt.setp(label, rotation=45)\n",
    "plt.ylabel(\"Numero de negocios\")\n",
    "plt.xlabel(\"Ciudad\")\n",
    "plt.show()\n"
   ]
  },
  {
   "cell_type": "markdown",
   "metadata": {},
   "source": [
    "Aqui podemos comprobar que el mayor número de negocios se encuentran en Las Vegas, Toronto y Phoenix que son ciudades de los tres estados que más negocios tienen. Serán estas ciudades las que tengamos en cuenta para comprobar que tipo de negocios son más aconsejables abrir como ya se ha mencionado antes. Pero para comprobar esto se necisita realizar una relación entre el dataset de negocios y el datsset de opiniones por lo que se tratará más adelante."
   ]
  },
  {
   "cell_type": "markdown",
   "metadata": {},
   "source": [
    "## Representación de la posición de los negocios"
   ]
  },
  {
   "cell_type": "markdown",
   "metadata": {},
   "source": [
    "Ahora, como sabemos, todos los negocios del dataset se encuentran en Norte América, por lo que vamos a observar como se encuentran distribuidos."
   ]
  },
  {
   "cell_type": "code",
   "execution_count": 17,
   "metadata": {},
   "outputs": [
    {
     "data": {
      "image/png": "[encoded data removed]",
      "text/plain": [
       "<Figure size 432x288 with 1 Axes>"
      ]
     },
     "metadata": {
      "needs_background": "light"
     },
     "output_type": "display_data"
    }
   ],
   "source": [
    "df.plot(kind=\"scatter\", x=\"longitud\", y=\"latitud\", alpha=1) \n",
    "plt.show()"
   ]
  },
  {
   "cell_type": "markdown",
   "metadata": {},
   "source": [
    "En esta gráfica podemos observar, aunque no del todo bien, donde se situán los negocios, lo cual puede ser intersante para observar cual sería la ubicación correcta para un posible negocio nuevo. Por ello vamos a tratar de observar como se distribuyen en el mejor de los estados."
   ]
  },
  {
   "cell_type": "markdown",
   "metadata": {},
   "source": [
    "## Negocios Arizona"
   ]
  },
  {
   "cell_type": "code",
   "execution_count": 18,
   "metadata": {},
   "outputs": [],
   "source": [
    "grouped = df.groupby('estado')\n",
    "dfAz=grouped.get_group(\"AZ\")"
   ]
  },
  {
   "cell_type": "code",
   "execution_count": 19,
   "metadata": {},
   "outputs": [
    {
     "data": {
      "image/png": "[encoded data removed]",
      "text/plain": [
       "<Figure size 432x288 with 2 Axes>"
      ]
     },
     "metadata": {
      "needs_background": "light"
     },
     "output_type": "display_data"
    }
   ],
   "source": [
    "dfAz.plot(kind=\"scatter\", x=\"longitud\", y=\"latitud\",c=\"puntuacion\",label=\"puntuacion\", alpha=0.4,cmap=plt.get_cmap(\"jet\")) \n",
    "plt.show()"
   ]
  },
  {
   "cell_type": "markdown",
   "metadata": {},
   "source": [
    "En Arizona podemos observar que la fuente de negocios se centra en torno a un punto. Si buscamos cual es ese punto en Google Maps, vemos que se centra en torno a Pheonix (que es una de las ciudades que más negocios tienen en general). Por lo que en vez de centrarnos en todo el estado de Arizona vamos a pasar a Pheonix y así poder comprobar si con una simple gráfica de punto se puede observar la distribución de los negocios."
   ]
  },
  {
   "cell_type": "markdown",
   "metadata": {},
   "source": [
    "## Negocios Pheonix"
   ]
  },
  {
   "cell_type": "code",
   "execution_count": 20,
   "metadata": {},
   "outputs": [],
   "source": [
    "grouped = dfAz.groupby('ciudad')\n",
    "dfPhx=grouped.get_group(\"Phoenix\")"
   ]
  },
  {
   "cell_type": "code",
   "execution_count": 21,
   "metadata": {},
   "outputs": [
    {
     "data": {
      "image/png": "[encoded data removed]",
      "text/plain": [
       "<Figure size 432x288 with 2 Axes>"
      ]
     },
     "metadata": {
      "needs_background": "light"
     },
     "output_type": "display_data"
    }
   ],
   "source": [
    "dfPhx.plot(kind=\"scatter\", x=\"longitud\", y=\"latitud\",c=\"puntuacion\",label=\"puntuacion\", alpha=0.4,cmap=plt.get_cmap(\"jet\")) \n",
    "plt.show()"
   ]
  },
  {
   "cell_type": "markdown",
   "metadata": {},
   "source": [
    "En la gráfica anterior, donde se represntan los negocios en Pheonix, no se puede ver muy bien un distribución de los negocios por lo que vamos a pasar a una reprsentación en forma de mapa que se vera en el documento de análisis de negocios II. "
   ]
  }
 ],
 "metadata": {
  "kernelspec": {
   "display_name": "Python 3",
   "language": "python",
   "name": "python3"
  },
  "language_info": {
   "codemirror_mode": {
    "name": "ipython",
    "version": 3
   },
   "file_extension": ".py",
   "mimetype": "text/x-python",
   "name": "python",
   "nbconvert_exporter": "python",
   "pygments_lexer": "ipython3",
   "version": "3.6.8"
  }
 },
 "nbformat": 4,
 "nbformat_minor": 2
}
